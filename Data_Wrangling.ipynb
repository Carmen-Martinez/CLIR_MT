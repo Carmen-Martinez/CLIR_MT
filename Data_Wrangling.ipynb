{
 "cells": [
  {
   "cell_type": "code",
   "execution_count": 119,
   "metadata": {},
   "outputs": [
    {
     "name": "stderr",
     "output_type": "stream",
     "text": [
      "[nltk_data] Downloading package punkt to\n",
      "[nltk_data]     C:\\Users\\Carmen\\AppData\\Roaming\\nltk_data...\n",
      "[nltk_data]   Package punkt is already up-to-date!\n"
     ]
    }
   ],
   "source": [
    "import pandas as pd\n",
    "import pandas, sys\n",
    "import numpy as np\n",
    "import re\n",
    "import sklearn\n",
    "import spacy\n",
    "import nltk\n",
    "from nltk import sent_tokenize, word_tokenize\n",
    "nltk.download('punkt')\n",
    "import warnings\n",
    "warnings.filterwarnings(\"ignore\")"
   ]
  },
  {
   "cell_type": "markdown",
   "metadata": {},
   "source": [
    "### Concatenating Data"
   ]
  },
  {
   "cell_type": "code",
   "execution_count": 322,
   "metadata": {},
   "outputs": [],
   "source": [
    "df1 = pd.read_csv(\"lang_doc.csv\")\n",
    "df2= pd.read_csv(\"lang_doc2.csv\")\n",
    "\n",
    "lang_df = pd.concat([df1, df2],  ignore_index=True)"
   ]
  },
  {
   "cell_type": "code",
   "execution_count": 323,
   "metadata": {},
   "outputs": [
    {
     "data": {
      "text/html": [
       "<div>\n",
       "<style scoped>\n",
       "    .dataframe tbody tr th:only-of-type {\n",
       "        vertical-align: middle;\n",
       "    }\n",
       "\n",
       "    .dataframe tbody tr th {\n",
       "        vertical-align: top;\n",
       "    }\n",
       "\n",
       "    .dataframe thead th {\n",
       "        text-align: right;\n",
       "    }\n",
       "</style>\n",
       "<table border=\"1\" class=\"dataframe\">\n",
       "  <thead>\n",
       "    <tr style=\"text-align: right;\">\n",
       "      <th></th>\n",
       "      <th>Spanish_text</th>\n",
       "      <th>English_text</th>\n",
       "    </tr>\n",
       "  </thead>\n",
       "  <tbody>\n",
       "    <tr>\n",
       "      <th>0</th>\n",
       "      <td>Esta tesis quiere profundizar sobre el caso de...</td>\n",
       "      <td>This thesis wants to delve into the case of th...</td>\n",
       "    </tr>\n",
       "    <tr>\n",
       "      <th>1</th>\n",
       "      <td>La violencia en sus diversas variantes está pr...</td>\n",
       "      <td>Violence in its several variations is present ...</td>\n",
       "    </tr>\n",
       "    <tr>\n",
       "      <th>2</th>\n",
       "      <td>Esta tesis doctoral es un ensayo clínico que, ...</td>\n",
       "      <td>This doctoral thesis is a clinical trial that ...</td>\n",
       "    </tr>\n",
       "    <tr>\n",
       "      <th>3</th>\n",
       "      <td>La frustración es un fenómeno que puede mitiga...</td>\n",
       "      <td>Frustration can be mitigated if there has been...</td>\n",
       "    </tr>\n",
       "    <tr>\n",
       "      <th>4</th>\n",
       "      <td>Las políticas lingüísticas europeas promueven ...</td>\n",
       "      <td>European language policies promote the trainin...</td>\n",
       "    </tr>\n",
       "  </tbody>\n",
       "</table>\n",
       "</div>"
      ],
      "text/plain": [
       "                                        Spanish_text  \\\n",
       "0  Esta tesis quiere profundizar sobre el caso de...   \n",
       "1  La violencia en sus diversas variantes está pr...   \n",
       "2  Esta tesis doctoral es un ensayo clínico que, ...   \n",
       "3  La frustración es un fenómeno que puede mitiga...   \n",
       "4  Las políticas lingüísticas europeas promueven ...   \n",
       "\n",
       "                                        English_text  \n",
       "0  This thesis wants to delve into the case of th...  \n",
       "1  Violence in its several variations is present ...  \n",
       "2  This doctoral thesis is a clinical trial that ...  \n",
       "3  Frustration can be mitigated if there has been...  \n",
       "4  European language policies promote the trainin...  "
      ]
     },
     "execution_count": 323,
     "metadata": {},
     "output_type": "execute_result"
    }
   ],
   "source": [
    "lang_df.head()"
   ]
  },
  {
   "cell_type": "markdown",
   "metadata": {},
   "source": [
    "### More Cleaning + tokenizing sentences"
   ]
  },
  {
   "cell_type": "code",
   "execution_count": 324,
   "metadata": {},
   "outputs": [],
   "source": [
    "lang_df[['Spanish_text', 'English_text']] = lang_df[['Spanish_text', 'English_text']].replace(r\"\\(.*\\)\",\"\")"
   ]
  },
  {
   "cell_type": "code",
   "execution_count": 325,
   "metadata": {},
   "outputs": [],
   "source": [
    "# remove any text that contains 'Español' in English_text variable\n",
    "lang_df['English_text'] = lang_df['English_text'].apply(lambda x: 0 if 'Español' in x else x)\n",
    "\n",
    "# remove rows with 0\n",
    "lang_df = lang_df[lang_df['English_text'] != 0]"
   ]
  },
  {
   "cell_type": "code",
   "execution_count": 326,
   "metadata": {},
   "outputs": [],
   "source": [
    "# storing each sentence in a list using sent_tokenize()\n",
    "lang_df[\"tokenized_spanish\"] = lang_df[\"Spanish_text\"].apply(sent_tokenize)\n",
    "lang_df[\"tokenized_english\"] = lang_df[\"English_text\"].apply(sent_tokenize)"
   ]
  },
  {
   "cell_type": "code",
   "execution_count": 327,
   "metadata": {},
   "outputs": [
    {
     "data": {
      "text/html": [
       "<div>\n",
       "<style scoped>\n",
       "    .dataframe tbody tr th:only-of-type {\n",
       "        vertical-align: middle;\n",
       "    }\n",
       "\n",
       "    .dataframe tbody tr th {\n",
       "        vertical-align: top;\n",
       "    }\n",
       "\n",
       "    .dataframe thead th {\n",
       "        text-align: right;\n",
       "    }\n",
       "</style>\n",
       "<table border=\"1\" class=\"dataframe\">\n",
       "  <thead>\n",
       "    <tr style=\"text-align: right;\">\n",
       "      <th></th>\n",
       "      <th>Spanish_text</th>\n",
       "      <th>English_text</th>\n",
       "      <th>tokenized_spanish</th>\n",
       "      <th>tokenized_english</th>\n",
       "    </tr>\n",
       "  </thead>\n",
       "  <tbody>\n",
       "    <tr>\n",
       "      <th>0</th>\n",
       "      <td>Esta tesis quiere profundizar sobre el caso de...</td>\n",
       "      <td>This thesis wants to delve into the case of th...</td>\n",
       "      <td>[Esta tesis quiere profundizar sobre el caso d...</td>\n",
       "      <td>[This thesis wants to delve into the case of t...</td>\n",
       "    </tr>\n",
       "    <tr>\n",
       "      <th>1</th>\n",
       "      <td>La violencia en sus diversas variantes está pr...</td>\n",
       "      <td>Violence in its several variations is present ...</td>\n",
       "      <td>[La violencia en sus diversas variantes está p...</td>\n",
       "      <td>[Violence in its several variations is present...</td>\n",
       "    </tr>\n",
       "    <tr>\n",
       "      <th>2</th>\n",
       "      <td>Esta tesis doctoral es un ensayo clínico que, ...</td>\n",
       "      <td>This doctoral thesis is a clinical trial that ...</td>\n",
       "      <td>[Esta tesis doctoral es un ensayo clínico que,...</td>\n",
       "      <td>[This doctoral thesis is a clinical trial that...</td>\n",
       "    </tr>\n",
       "    <tr>\n",
       "      <th>3</th>\n",
       "      <td>La frustración es un fenómeno que puede mitiga...</td>\n",
       "      <td>Frustration can be mitigated if there has been...</td>\n",
       "      <td>[La frustración es un fenómeno que puede mitig...</td>\n",
       "      <td>[Frustration can be mitigated if there has bee...</td>\n",
       "    </tr>\n",
       "    <tr>\n",
       "      <th>4</th>\n",
       "      <td>Las políticas lingüísticas europeas promueven ...</td>\n",
       "      <td>European language policies promote the trainin...</td>\n",
       "      <td>[Las políticas lingüísticas europeas promueven...</td>\n",
       "      <td>[European language policies promote the traini...</td>\n",
       "    </tr>\n",
       "  </tbody>\n",
       "</table>\n",
       "</div>"
      ],
      "text/plain": [
       "                                        Spanish_text  \\\n",
       "0  Esta tesis quiere profundizar sobre el caso de...   \n",
       "1  La violencia en sus diversas variantes está pr...   \n",
       "2  Esta tesis doctoral es un ensayo clínico que, ...   \n",
       "3  La frustración es un fenómeno que puede mitiga...   \n",
       "4  Las políticas lingüísticas europeas promueven ...   \n",
       "\n",
       "                                        English_text  \\\n",
       "0  This thesis wants to delve into the case of th...   \n",
       "1  Violence in its several variations is present ...   \n",
       "2  This doctoral thesis is a clinical trial that ...   \n",
       "3  Frustration can be mitigated if there has been...   \n",
       "4  European language policies promote the trainin...   \n",
       "\n",
       "                                   tokenized_spanish  \\\n",
       "0  [Esta tesis quiere profundizar sobre el caso d...   \n",
       "1  [La violencia en sus diversas variantes está p...   \n",
       "2  [Esta tesis doctoral es un ensayo clínico que,...   \n",
       "3  [La frustración es un fenómeno que puede mitig...   \n",
       "4  [Las políticas lingüísticas europeas promueven...   \n",
       "\n",
       "                                   tokenized_english  \n",
       "0  [This thesis wants to delve into the case of t...  \n",
       "1  [Violence in its several variations is present...  \n",
       "2  [This doctoral thesis is a clinical trial that...  \n",
       "3  [Frustration can be mitigated if there has bee...  \n",
       "4  [European language policies promote the traini...  "
      ]
     },
     "execution_count": 327,
     "metadata": {},
     "output_type": "execute_result"
    }
   ],
   "source": [
    "lang_df.head()"
   ]
  },
  {
   "cell_type": "code",
   "execution_count": 328,
   "metadata": {},
   "outputs": [],
   "source": [
    "# create variables with len in spanish and english\n",
    "lang_df['len_token_spanish'] = lang_df['tokenized_spanish'].apply(lambda x: len(x))\n",
    "lang_df['len_token_english'] = lang_df['tokenized_english'].apply(lambda x: len(x))\n",
    "\n",
    "# dropped unequal sentence lengths\n",
    "lang_df = lang_df[lang_df['len_token_spanish'] == lang_df['len_token_english']]"
   ]
  },
  {
   "cell_type": "code",
   "execution_count": 329,
   "metadata": {},
   "outputs": [],
   "source": [
    "# drop irrelevent variables\n",
    "lang_df.drop(['Spanish_text', 'English_text', 'len_token_spanish', 'len_token_english'], axis=1, inplace=True)"
   ]
  },
  {
   "cell_type": "code",
   "execution_count": 330,
   "metadata": {},
   "outputs": [
    {
     "data": {
      "text/html": [
       "<div>\n",
       "<style scoped>\n",
       "    .dataframe tbody tr th:only-of-type {\n",
       "        vertical-align: middle;\n",
       "    }\n",
       "\n",
       "    .dataframe tbody tr th {\n",
       "        vertical-align: top;\n",
       "    }\n",
       "\n",
       "    .dataframe thead th {\n",
       "        text-align: right;\n",
       "    }\n",
       "</style>\n",
       "<table border=\"1\" class=\"dataframe\">\n",
       "  <thead>\n",
       "    <tr style=\"text-align: right;\">\n",
       "      <th></th>\n",
       "      <th>tokenized_spanish</th>\n",
       "      <th>tokenized_english</th>\n",
       "    </tr>\n",
       "  </thead>\n",
       "  <tbody>\n",
       "    <tr>\n",
       "      <th>1</th>\n",
       "      <td>[La violencia en sus diversas variantes está p...</td>\n",
       "      <td>[Violence in its several variations is present...</td>\n",
       "    </tr>\n",
       "    <tr>\n",
       "      <th>2</th>\n",
       "      <td>[Esta tesis doctoral es un ensayo clínico que,...</td>\n",
       "      <td>[This doctoral thesis is a clinical trial that...</td>\n",
       "    </tr>\n",
       "    <tr>\n",
       "      <th>5</th>\n",
       "      <td>[Los pabellones de conveniencia han tenido un ...</td>\n",
       "      <td>[Flags of convenience have had a deep impact o...</td>\n",
       "    </tr>\n",
       "    <tr>\n",
       "      <th>9</th>\n",
       "      <td>[Los seres humanos y los animales experimentan...</td>\n",
       "      <td>[Humans and animals undergo morphological deve...</td>\n",
       "    </tr>\n",
       "    <tr>\n",
       "      <th>12</th>\n",
       "      <td>[La irrupción de los sistemas de derechos huma...</td>\n",
       "      <td>[The irruption of human rights systems at a co...</td>\n",
       "    </tr>\n",
       "  </tbody>\n",
       "</table>\n",
       "</div>"
      ],
      "text/plain": [
       "                                    tokenized_spanish  \\\n",
       "1   [La violencia en sus diversas variantes está p...   \n",
       "2   [Esta tesis doctoral es un ensayo clínico que,...   \n",
       "5   [Los pabellones de conveniencia han tenido un ...   \n",
       "9   [Los seres humanos y los animales experimentan...   \n",
       "12  [La irrupción de los sistemas de derechos huma...   \n",
       "\n",
       "                                    tokenized_english  \n",
       "1   [Violence in its several variations is present...  \n",
       "2   [This doctoral thesis is a clinical trial that...  \n",
       "5   [Flags of convenience have had a deep impact o...  \n",
       "9   [Humans and animals undergo morphological deve...  \n",
       "12  [The irruption of human rights systems at a co...  "
      ]
     },
     "execution_count": 330,
     "metadata": {},
     "output_type": "execute_result"
    }
   ],
   "source": [
    "lang_df.head()"
   ]
  },
  {
   "cell_type": "markdown",
   "metadata": {},
   "source": [
    "### 'exploding' the lists of sentences into own rows"
   ]
  },
  {
   "cell_type": "code",
   "execution_count": 331,
   "metadata": {},
   "outputs": [],
   "source": [
    "# make sentences in the lists it's own row\n",
    "lang_df2 =lang_df.apply(pd.Series.explode).reset_index()\n",
    "lang_df2.drop('index', axis=1, inplace=True)\n",
    "\n",
    "# renaming variables\n",
    "lang_df2.rename(columns = {'tokenized_spanish' : 'Spanish', 'tokenized_english' : 'English'}, inplace = True)"
   ]
  },
  {
   "cell_type": "code",
   "execution_count": 336,
   "metadata": {},
   "outputs": [
    {
     "data": {
      "text/html": [
       "<div>\n",
       "<style scoped>\n",
       "    .dataframe tbody tr th:only-of-type {\n",
       "        vertical-align: middle;\n",
       "    }\n",
       "\n",
       "    .dataframe tbody tr th {\n",
       "        vertical-align: top;\n",
       "    }\n",
       "\n",
       "    .dataframe thead th {\n",
       "        text-align: right;\n",
       "    }\n",
       "</style>\n",
       "<table border=\"1\" class=\"dataframe\">\n",
       "  <thead>\n",
       "    <tr style=\"text-align: right;\">\n",
       "      <th></th>\n",
       "      <th>Spanish</th>\n",
       "      <th>English</th>\n",
       "    </tr>\n",
       "  </thead>\n",
       "  <tbody>\n",
       "    <tr>\n",
       "      <th>0</th>\n",
       "      <td>La violencia en sus diversas variantes está pr...</td>\n",
       "      <td>Violence in its several variations is present ...</td>\n",
       "    </tr>\n",
       "    <tr>\n",
       "      <th>1</th>\n",
       "      <td>Este fenómeno impacta a un alto por ciento de ...</td>\n",
       "      <td>This phenomenon impacts a high percentage of c...</td>\n",
       "    </tr>\n",
       "    <tr>\n",
       "      <th>2</th>\n",
       "      <td>La globalización y la continua búsqueda de las...</td>\n",
       "      <td>Globalization and the continued quest of natio...</td>\n",
       "    </tr>\n",
       "    <tr>\n",
       "      <th>3</th>\n",
       "      <td>Asimismo, son estas nuevas tecnologías las que...</td>\n",
       "      <td>It is also these new technologies that can fos...</td>\n",
       "    </tr>\n",
       "    <tr>\n",
       "      <th>4</th>\n",
       "      <td>La educación está en constante transmutación c...</td>\n",
       "      <td>Education is constantly changing because of th...</td>\n",
       "    </tr>\n",
       "  </tbody>\n",
       "</table>\n",
       "</div>"
      ],
      "text/plain": [
       "                                             Spanish  \\\n",
       "0  La violencia en sus diversas variantes está pr...   \n",
       "1  Este fenómeno impacta a un alto por ciento de ...   \n",
       "2  La globalización y la continua búsqueda de las...   \n",
       "3  Asimismo, son estas nuevas tecnologías las que...   \n",
       "4  La educación está en constante transmutación c...   \n",
       "\n",
       "                                             English  \n",
       "0  Violence in its several variations is present ...  \n",
       "1  This phenomenon impacts a high percentage of c...  \n",
       "2  Globalization and the continued quest of natio...  \n",
       "3  It is also these new technologies that can fos...  \n",
       "4  Education is constantly changing because of th...  "
      ]
     },
     "execution_count": 336,
     "metadata": {},
     "output_type": "execute_result"
    }
   ],
   "source": [
    "lang_df2.head()"
   ]
  },
  {
   "cell_type": "code",
   "execution_count": 335,
   "metadata": {},
   "outputs": [
    {
     "data": {
      "text/plain": [
       "373"
      ]
     },
     "execution_count": 335,
     "metadata": {},
     "output_type": "execute_result"
    }
   ],
   "source": [
    "len(lang_df2)"
   ]
  },
  {
   "cell_type": "markdown",
   "metadata": {},
   "source": [
    "### Example Sentences"
   ]
  },
  {
   "cell_type": "code",
   "execution_count": 337,
   "metadata": {},
   "outputs": [
    {
     "data": {
      "text/plain": [
       "'Reconociendo la aventajada postura que exhibe el maestro en los escenarios escolares para la transformación de la vida de sus alumnos y la prevención de los actos de agresión y violencia pretendemos establecer la posible relación entre la violencia escolar y el nivel de capacitación que tiene el futuro profesorado para enfrentar situaciones de violencias en los ambientes escolares.'"
      ]
     },
     "execution_count": 337,
     "metadata": {},
     "output_type": "execute_result"
    }
   ],
   "source": [
    "lang_df2['Spanish'][6]"
   ]
  },
  {
   "cell_type": "code",
   "execution_count": 338,
   "metadata": {},
   "outputs": [
    {
     "data": {
      "text/plain": [
       "'Recognizing the valuable attitude that teacher exhibits in school settings for the transformation of the lives of their students and the prevention of hostility acts and violence and the level of training that the future teachers have to face situations of violence in school environments.'"
      ]
     },
     "execution_count": 338,
     "metadata": {},
     "output_type": "execute_result"
    }
   ],
   "source": [
    "lang_df2['English'][6]"
   ]
  },
  {
   "cell_type": "code",
   "execution_count": null,
   "metadata": {},
   "outputs": [],
   "source": []
  }
 ],
 "metadata": {
  "kernelspec": {
   "display_name": "Python 3",
   "language": "python",
   "name": "python3"
  },
  "language_info": {
   "codemirror_mode": {
    "name": "ipython",
    "version": 3
   },
   "file_extension": ".py",
   "mimetype": "text/x-python",
   "name": "python",
   "nbconvert_exporter": "python",
   "pygments_lexer": "ipython3",
   "version": "3.8.5"
  }
 },
 "nbformat": 4,
 "nbformat_minor": 4
}
