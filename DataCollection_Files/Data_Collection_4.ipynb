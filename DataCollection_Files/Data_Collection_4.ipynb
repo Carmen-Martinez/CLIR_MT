{
 "cells": [
  {
   "cell_type": "code",
   "execution_count": 5,
   "metadata": {},
   "outputs": [],
   "source": [
    "import numpy as np\n",
    "import pandas as pd\n",
    "import time\n",
    "import re\n",
    "\n",
    "from selenium import webdriver\n",
    "from selenium.webdriver.common.keys import Keys\n",
    "from selenium.webdriver.common.by import By\n",
    "from selenium.webdriver.support.ui import WebDriverWait\n",
    "from selenium.webdriver.support import expected_conditions as EC\n",
    "from selenium.common.exceptions import TimeoutException\n",
    "from selenium.common.exceptions import NoSuchElementException"
   ]
  },
  {
   "cell_type": "markdown",
   "metadata": {},
   "source": [
    "### Extract All The Links"
   ]
  },
  {
   "cell_type": "code",
   "execution_count": 6,
   "metadata": {},
   "outputs": [],
   "source": [
    "PATH = \"C:\\Program Files (x86)\\web_driver\\chromedriver.exe\"\n",
    "driver = webdriver.Chrome(PATH)\n",
    "\n",
    "# start at this page\n",
    "driver.get('https://dialnet.unirioja.es/tesis/fechalectura?inicio=14000')"
   ]
  },
  {
   "cell_type": "code",
   "execution_count": 7,
   "metadata": {},
   "outputs": [
    {
     "name": "stdout",
     "output_type": "stream",
     "text": [
      "Wall time: 23min 48s\n"
     ]
    }
   ],
   "source": [
    "%%time\n",
    "absLinks=[]\n",
    "max_pages = 0\n",
    "while True:\n",
    "    link1 = driver.find_elements_by_css_selector(\"span.titulo\")\n",
    "    for tags in link1:\n",
    "        link2 = tags.find_elements_by_tag_name(\"a\")\n",
    "        for link3 in link2:\n",
    "            absLinks.append(link3.get_attribute(\"href\"))\n",
    "    \n",
    "    # extract links\n",
    "    try:\n",
    "        time.sleep(7)\n",
    "        driver.find_element_by_xpath('//*[@id=\"pieDeListadoDeBusquedaDeAutores\"]/ul/li[4]/a').click() \n",
    "        max_pages += 1\n",
    "        if max_pages == 170:\n",
    "            break\n",
    "    # stop if no more pages available\n",
    "    except NoSuchElementException:\n",
    "        break"
   ]
  },
  {
   "cell_type": "markdown",
   "metadata": {},
   "source": [
    "### Get Contents From Each Link"
   ]
  },
  {
   "cell_type": "code",
   "execution_count": 8,
   "metadata": {},
   "outputs": [
    {
     "ename": "WebDriverException",
     "evalue": "Message: chrome not reachable\n  (Session info: chrome=90.0.4430.93)\n",
     "output_type": "error",
     "traceback": [
      "\u001b[1;31m---------------------------------------------------------------------------\u001b[0m",
      "\u001b[1;31mWebDriverException\u001b[0m                        Traceback (most recent call last)",
      "\u001b[1;32m<ipython-input-8-5ee4e6af2e6c>\u001b[0m in \u001b[0;36m<module>\u001b[1;34m\u001b[0m\n\u001b[0;32m      2\u001b[0m \u001b[1;32mfor\u001b[0m \u001b[0mlink\u001b[0m \u001b[1;32min\u001b[0m \u001b[0mabsLinks\u001b[0m\u001b[1;33m:\u001b[0m\u001b[1;33m\u001b[0m\u001b[1;33m\u001b[0m\u001b[0m\n\u001b[0;32m      3\u001b[0m     \u001b[0mtime\u001b[0m\u001b[1;33m.\u001b[0m\u001b[0msleep\u001b[0m\u001b[1;33m(\u001b[0m\u001b[1;36m5\u001b[0m\u001b[1;33m)\u001b[0m\u001b[1;33m\u001b[0m\u001b[1;33m\u001b[0m\u001b[0m\n\u001b[1;32m----> 4\u001b[1;33m     \u001b[0mdriver\u001b[0m\u001b[1;33m.\u001b[0m\u001b[0mget\u001b[0m\u001b[1;33m(\u001b[0m\u001b[0mlink\u001b[0m\u001b[1;33m)\u001b[0m\u001b[1;33m\u001b[0m\u001b[1;33m\u001b[0m\u001b[0m\n\u001b[0m\u001b[0;32m      5\u001b[0m \u001b[1;33m\u001b[0m\u001b[0m\n\u001b[0;32m      6\u001b[0m     \u001b[1;32mtry\u001b[0m\u001b[1;33m:\u001b[0m\u001b[1;33m\u001b[0m\u001b[1;33m\u001b[0m\u001b[0m\n",
      "\u001b[1;32m~\\anaconda3\\lib\\site-packages\\selenium\\webdriver\\remote\\webdriver.py\u001b[0m in \u001b[0;36mget\u001b[1;34m(self, url)\u001b[0m\n\u001b[0;32m    331\u001b[0m         \u001b[0mLoads\u001b[0m \u001b[0ma\u001b[0m \u001b[0mweb\u001b[0m \u001b[0mpage\u001b[0m \u001b[1;32min\u001b[0m \u001b[0mthe\u001b[0m \u001b[0mcurrent\u001b[0m \u001b[0mbrowser\u001b[0m \u001b[0msession\u001b[0m\u001b[1;33m.\u001b[0m\u001b[1;33m\u001b[0m\u001b[1;33m\u001b[0m\u001b[0m\n\u001b[0;32m    332\u001b[0m         \"\"\"\n\u001b[1;32m--> 333\u001b[1;33m         \u001b[0mself\u001b[0m\u001b[1;33m.\u001b[0m\u001b[0mexecute\u001b[0m\u001b[1;33m(\u001b[0m\u001b[0mCommand\u001b[0m\u001b[1;33m.\u001b[0m\u001b[0mGET\u001b[0m\u001b[1;33m,\u001b[0m \u001b[1;33m{\u001b[0m\u001b[1;34m'url'\u001b[0m\u001b[1;33m:\u001b[0m \u001b[0murl\u001b[0m\u001b[1;33m}\u001b[0m\u001b[1;33m)\u001b[0m\u001b[1;33m\u001b[0m\u001b[1;33m\u001b[0m\u001b[0m\n\u001b[0m\u001b[0;32m    334\u001b[0m \u001b[1;33m\u001b[0m\u001b[0m\n\u001b[0;32m    335\u001b[0m     \u001b[1;33m@\u001b[0m\u001b[0mproperty\u001b[0m\u001b[1;33m\u001b[0m\u001b[1;33m\u001b[0m\u001b[0m\n",
      "\u001b[1;32m~\\anaconda3\\lib\\site-packages\\selenium\\webdriver\\remote\\webdriver.py\u001b[0m in \u001b[0;36mexecute\u001b[1;34m(self, driver_command, params)\u001b[0m\n\u001b[0;32m    319\u001b[0m         \u001b[0mresponse\u001b[0m \u001b[1;33m=\u001b[0m \u001b[0mself\u001b[0m\u001b[1;33m.\u001b[0m\u001b[0mcommand_executor\u001b[0m\u001b[1;33m.\u001b[0m\u001b[0mexecute\u001b[0m\u001b[1;33m(\u001b[0m\u001b[0mdriver_command\u001b[0m\u001b[1;33m,\u001b[0m \u001b[0mparams\u001b[0m\u001b[1;33m)\u001b[0m\u001b[1;33m\u001b[0m\u001b[1;33m\u001b[0m\u001b[0m\n\u001b[0;32m    320\u001b[0m         \u001b[1;32mif\u001b[0m \u001b[0mresponse\u001b[0m\u001b[1;33m:\u001b[0m\u001b[1;33m\u001b[0m\u001b[1;33m\u001b[0m\u001b[0m\n\u001b[1;32m--> 321\u001b[1;33m             \u001b[0mself\u001b[0m\u001b[1;33m.\u001b[0m\u001b[0merror_handler\u001b[0m\u001b[1;33m.\u001b[0m\u001b[0mcheck_response\u001b[0m\u001b[1;33m(\u001b[0m\u001b[0mresponse\u001b[0m\u001b[1;33m)\u001b[0m\u001b[1;33m\u001b[0m\u001b[1;33m\u001b[0m\u001b[0m\n\u001b[0m\u001b[0;32m    322\u001b[0m             response['value'] = self._unwrap_value(\n\u001b[0;32m    323\u001b[0m                 response.get('value', None))\n",
      "\u001b[1;32m~\\anaconda3\\lib\\site-packages\\selenium\\webdriver\\remote\\errorhandler.py\u001b[0m in \u001b[0;36mcheck_response\u001b[1;34m(self, response)\u001b[0m\n\u001b[0;32m    240\u001b[0m                 \u001b[0malert_text\u001b[0m \u001b[1;33m=\u001b[0m \u001b[0mvalue\u001b[0m\u001b[1;33m[\u001b[0m\u001b[1;34m'alert'\u001b[0m\u001b[1;33m]\u001b[0m\u001b[1;33m.\u001b[0m\u001b[0mget\u001b[0m\u001b[1;33m(\u001b[0m\u001b[1;34m'text'\u001b[0m\u001b[1;33m)\u001b[0m\u001b[1;33m\u001b[0m\u001b[1;33m\u001b[0m\u001b[0m\n\u001b[0;32m    241\u001b[0m             \u001b[1;32mraise\u001b[0m \u001b[0mexception_class\u001b[0m\u001b[1;33m(\u001b[0m\u001b[0mmessage\u001b[0m\u001b[1;33m,\u001b[0m \u001b[0mscreen\u001b[0m\u001b[1;33m,\u001b[0m \u001b[0mstacktrace\u001b[0m\u001b[1;33m,\u001b[0m \u001b[0malert_text\u001b[0m\u001b[1;33m)\u001b[0m\u001b[1;33m\u001b[0m\u001b[1;33m\u001b[0m\u001b[0m\n\u001b[1;32m--> 242\u001b[1;33m         \u001b[1;32mraise\u001b[0m \u001b[0mexception_class\u001b[0m\u001b[1;33m(\u001b[0m\u001b[0mmessage\u001b[0m\u001b[1;33m,\u001b[0m \u001b[0mscreen\u001b[0m\u001b[1;33m,\u001b[0m \u001b[0mstacktrace\u001b[0m\u001b[1;33m)\u001b[0m\u001b[1;33m\u001b[0m\u001b[1;33m\u001b[0m\u001b[0m\n\u001b[0m\u001b[0;32m    243\u001b[0m \u001b[1;33m\u001b[0m\u001b[0m\n\u001b[0;32m    244\u001b[0m     \u001b[1;32mdef\u001b[0m \u001b[0m_value_or_default\u001b[0m\u001b[1;33m(\u001b[0m\u001b[0mself\u001b[0m\u001b[1;33m,\u001b[0m \u001b[0mobj\u001b[0m\u001b[1;33m,\u001b[0m \u001b[0mkey\u001b[0m\u001b[1;33m,\u001b[0m \u001b[0mdefault\u001b[0m\u001b[1;33m)\u001b[0m\u001b[1;33m:\u001b[0m\u001b[1;33m\u001b[0m\u001b[1;33m\u001b[0m\u001b[0m\n",
      "\u001b[1;31mWebDriverException\u001b[0m: Message: chrome not reachable\n  (Session info: chrome=90.0.4430.93)\n"
     ]
    }
   ],
   "source": [
    "data = []\n",
    "for link in absLinks:\n",
    "    time.sleep(5)\n",
    "    driver.get(link)\n",
    "\n",
    "    try:\n",
    "        contents = driver.find_elements_by_xpath('//*[@id=\"resumen\"]')\n",
    "        for content in contents:\n",
    "            language = content.text\n",
    "\n",
    "    except NoSuchElementException:\n",
    "        break\n",
    "\n",
    "    #collect the data\n",
    "    lang= {'content': language}\n",
    "    data.append(lang)"
   ]
  },
  {
   "cell_type": "code",
   "execution_count": 9,
   "metadata": {},
   "outputs": [],
   "source": [
    "en_sp = pd.DataFrame(data)"
   ]
  },
  {
   "cell_type": "code",
   "execution_count": 10,
   "metadata": {},
   "outputs": [
    {
     "data": {
      "text/plain": [
       "216"
      ]
     },
     "execution_count": 10,
     "metadata": {},
     "output_type": "execute_result"
    }
   ],
   "source": [
    "len(en_sp)"
   ]
  },
  {
   "cell_type": "markdown",
   "metadata": {},
   "source": [
    "### Data Cleaning"
   ]
  },
  {
   "cell_type": "code",
   "execution_count": 11,
   "metadata": {},
   "outputs": [],
   "source": [
    "# remove \\n \n",
    "en_sp['content'] = en_sp['content'].apply(lambda x: re.sub(r'\\n', '', x))\n",
    "\n",
    "# return only rows with 'Espanol' in the text (because it contains english translate too)\n",
    "en_sp['Spanish'] = en_sp['content'].apply(lambda x: x if 'Español' in x else 0)\n",
    "\n",
    "# remove rows with 0\n",
    "en_sp = en_sp[en_sp['Spanish'] != 0]\n",
    "\n",
    "# create two new variables: Spanish_text, English_text to separate the translations\n",
    "en_sp['Spanish_text'] = en_sp['Spanish'].apply(lambda x: x.split('English')[0])\n",
    "en_sp['English_text'] = en_sp['Spanish'].apply(lambda x: x.split('English')[-1])\n",
    "\n",
    "# remove 'Galego' translation in the English_text variable\n",
    "en_sp['English_text'] = en_sp['English_text'].apply(lambda x: x.split('Galego')[0] if 'Galego' in x else x)\n",
    "\n",
    "en_sp['Spanish_text'] = en_sp['Spanish_text'].apply(lambda x: x.split('Español')[-1])\n",
    "\n",
    "# remove any text that contains 'Español' in the English_text\n",
    "en_sp['English_text'] = en_sp['English_text'].apply(lambda x: 0 if 'Español' in x else x)\n",
    "\n",
    "# remove rows with 0\n",
    "en_sp = en_sp[en_sp['English_text'] != 0]\n"
   ]
  },
  {
   "cell_type": "code",
   "execution_count": 12,
   "metadata": {},
   "outputs": [
    {
     "data": {
      "text/plain": [
       "24"
      ]
     },
     "execution_count": 12,
     "metadata": {},
     "output_type": "execute_result"
    }
   ],
   "source": [
    "# make sure Spanish_text and English_text do not have the same value\n",
    "en_sp = en_sp[en_sp['Spanish_text'] != en_sp['English_text']]\n",
    "len(en_sp)"
   ]
  },
  {
   "cell_type": "code",
   "execution_count": 13,
   "metadata": {},
   "outputs": [],
   "source": [
    "# format dataframe\n",
    "en_sp.reset_index(inplace=True)\n",
    "en_sp.drop(['index', 'content', 'Spanish'], axis=1, inplace=True)"
   ]
  },
  {
   "cell_type": "code",
   "execution_count": 14,
   "metadata": {},
   "outputs": [],
   "source": [
    "en_sp = en_sp[:30]"
   ]
  },
  {
   "cell_type": "code",
   "execution_count": 15,
   "metadata": {},
   "outputs": [
    {
     "data": {
      "text/plain": [
       "'RESUMEN Antecedentes En los programas de cribado con mamografía digital, la doble lectura mamográfica es la estrategia de elección al ser más sensible en la detección de lesiones. Algunas de estas lesiones no son agresivas y pueden considerarse falsos positivos o sobrediagnóstico. Por tanto, es relevante evaluar la efectividad y coste-efectividad de la doble lectura y caracterizar las lesiones benignas.Objetivos Evaluar la efectividad y coste-efectividad de la doble lectura mamográfica en el contexto de la mamografía digital y valorar el comportamiento de lesiones benignas detectadas en un programa de cribado.Métodos Se realizaron cuatro estudios con diferentes diseños metodológicos. Para determinar la efectividad y el coste-efectividad de la doble lectura, se realizó un estudio de coste-consecuencia, uno de coste-efectividad y una revisión sistemática. Para determinar si la expresión de receptores de estrógeno (RE), progesterona (RP) y Ki-67 en las lesiones benignas aumenta el riesgo de cáncer, se realizó un estudio de casos y controles.Resultados El estudio de coste-consecuencia incluyó 57.157 mamografías digitales. El coste medio del proceso de cribado con la doble lectura con consenso y arbitraje fue un 15% superior (44,9 €) que con la lectura simple (39,1 €). La doble lectura tuvo un 0,3% (N = 181) más de resultados falsos positivos (P < 0,01). Ambas estrategias de lectura tuvieron tasas de detección de cáncer similares (4,6/1000 y 4,2/1000 mamografías, respectivamente; P = 0,28).El estudio de coste-efectividad incluyó 28.636 mamografías digitales. Se detectaron 148 (5,2/1000) cánceres con la doble lectura, 138 (4,8/1000) con la doble lectura en el cribado prevalente y lectura simple en el cribado incidente y 137 (4,8/1000) con la lectura simple (P = 0,77). El coste medio de la detección de un cáncer fue 8.912 €, 8.614 € y 8.287 €, respectivamente. La relación de coste-efectividad incremental (RCEI) de la doble lectura en el cribado prevalente y lectura simple en el cribado incidente fue de 53.312 € por cáncer detectado. Esta estrategia fue dominada por extensión siendo excluida del análisis. La RCEI de la doble lectura frente a la lectura simple fue 16.684 €.En la revisión sistemática se incluyeron estudios con bajo riesgo de sesgo, tres europeos y uno japonés. La tasa combinada de detección de cáncer con la doble lectura fue 6,0/1000 mamografías y 5,7/1000 con la lectura simple (P = 0,76). La proporción de falsos positivos con la doble lectura fue 4,7% y 4,1% con la lectura simple (P = 0,12). La lectura simple más un sistema de ayuda al diagnóstico fue coste-efectiva en Japón. No se identificaron estudios sobre mortalidad, calidad de vida o sobrediagnóstico.En el estudio de casos y controles se incluyeron 258 lesiones benignas; 86 casos y 172 controles. Comparado con las lesiones que presentaron una expresión baja de RE (≤ 70%), la expresión moderada (71% a 90%) y alta (> 90%) mostró un riesgo mayor de cáncer de mama (OR = 1,98 y OR = 2,63; respectivamente). Las lesiones con alta expresión de RP (> 80%) mostraron un mayor riesgo de cáncer de mama (OR = 2,22) comparado con las de baja expresión (≤ 40%). Las lesiones proliferativas con expresión ≥ 1% de Ki67 no mostraron un riesgo mayor de cáncer (OR = 1,16).Conclusiones En el contexto de la mamografía digital, la doble lectura incrementa significativamente la frecuencia de falsos positivos y de forma más modesta la tasa de detección de cáncer. La doble lectura no es coste-efectiva cuando se aplica solo en el cribado prevalente y tampoco parece serlo en el cribado incidente. Las lesiones benignas con alta expresión de RE o RP tienen un mayor riesgo de desarrollar un cáncer de mama.'"
      ]
     },
     "execution_count": 15,
     "metadata": {},
     "output_type": "execute_result"
    }
   ],
   "source": [
    "en_sp['Spanish_text'][12]"
   ]
  },
  {
   "cell_type": "code",
   "execution_count": 16,
   "metadata": {},
   "outputs": [
    {
     "data": {
      "text/plain": [
       "'ABSTRACT Background In breast cancer screening programmes, double reading of digital mammograms is used since it can detect more lesions. Some of these lesions are not aggressive and may be considered false positives or overdiagnosis. Therefore, it is relevant to evaluate the effectiveness and cost-effectiveness of double reading and to characterize benign lesions.Objectives To evaluate the effectiveness and cost-effectiveness of double reading of digital mammograms and to characterize the benign breast lesions detected in a breast cancer screening programme.Methods Four studies with different methodological designs were performed. To determine the effectiveness and cost-effectiveness of double reading of digital mammograms, we performed: i) a cost-consequence study; ii) a cost-effectiveness study; and iii) a systematic review of observational studies and economic evaluations. To determine whether the expression of estrogen (ER), progesterone (PR) and Ki-67 receptors in benign lesions increases the risk of cancer, iv) a case-control study was conducted.Results The cost-consequence study included 57,157 digital mammograms. The average cost of the screening process with double reading with consensus and arbitration was 15% higher (44.9 €) than with single reading (39.1 €). Double reading had 0.3% (N = 181) more false-positive results than single reading (P < 0.01). Both reading strategies had similar cancer detection rates (4.6/1000 and 4.2/1000 mammograms, respectively; P = 0.28) and similar positive predictive values (9.3% and 9.1%, respectively, P = 0.81).In the cost-effectiveness study, 28,636 digital mammograms were analysed. The number of cancers detected was 148 (5.2/1000) with double reading, 138 (4.8/1000) with double reading in prevalent screening and single reading in incident screening, and 137 (4.8/1000) with single reading (P = 0.77). The average cost of detecting one cancer was 8,912 €, 8,614 € and 8,287 €, respectively. The incremental cost-effectiveness ratio (ICER) of double reading in prevalent screening and single reading in incident screening was 53,312 € per detected cancer. This strategy was dominated by extension so it was eliminated from the analysis. The ICER of double versus single reading was 16,684 €.In the systematic review four studies with low risk of bias were included. Three of them were made in Europe and one in Japan. The pooled rate of cancer detection with double reading was 6.0/1000 mammograms and it was 5.7/1000 with single reading (P = 0.76). The proportion of false positives with double reading was 4.7% and 4.1% with single reading (P = 0.12). Single reading plus a diagnosis-aid system was cost-effective in Japan. No studies evaluating mortality, quality of life, or overdiagnosis were identified.The case-control study included 258 benign lesions, 86 were cases and 172 were controls. Compared with benign lesions with low ER (≤ 70%) expression, moderate (71% to 90%) and high (> 90%) expression showed an increased risk of breast cancer (OR = 1.98 and OR = 2.63, respectively). Lesions with high PR (> 80%) showed an increased risk of breast cancer (OR = 2.22) compared to those with low expression (≤ 40%). Proliferative lesions with ≥ 1% Ki67 expression did not show an increased risk of cancer (OR = 1.16).Conclusion In the era of digital mammography, double reading significantly increases the frequency of false positives without an important increase in the cancer detection rate. Double reading is not cost-effective when applied only in the prevalent screening and it also appears not to be cost-effective in the incident screening. Benign lesions with high ER or RP expression have a higher risk of developing breast cancer.'"
      ]
     },
     "execution_count": 16,
     "metadata": {},
     "output_type": "execute_result"
    }
   ],
   "source": [
    "en_sp['English_text'][12]"
   ]
  },
  {
   "cell_type": "code",
   "execution_count": 23,
   "metadata": {},
   "outputs": [],
   "source": [
    "en_sp.to_csv('lang_doc4.csv', index=False)"
   ]
  },
  {
   "cell_type": "code",
   "execution_count": null,
   "metadata": {},
   "outputs": [],
   "source": []
  }
 ],
 "metadata": {
  "kernelspec": {
   "display_name": "Python 3",
   "language": "python",
   "name": "python3"
  },
  "language_info": {
   "codemirror_mode": {
    "name": "ipython",
    "version": 3
   },
   "file_extension": ".py",
   "mimetype": "text/x-python",
   "name": "python",
   "nbconvert_exporter": "python",
   "pygments_lexer": "ipython3",
   "version": "3.8.5"
  }
 },
 "nbformat": 4,
 "nbformat_minor": 4
}
