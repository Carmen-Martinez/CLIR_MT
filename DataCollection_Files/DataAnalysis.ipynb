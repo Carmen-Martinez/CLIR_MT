{
 "cells": [
  {
   "cell_type": "code",
   "execution_count": null,
   "metadata": {},
   "outputs": [],
   "source": [
    "!python -m spacy download en"
   ]
  },
  {
   "cell_type": "code",
   "execution_count": 218,
   "metadata": {},
   "outputs": [
    {
     "name": "stderr",
     "output_type": "stream",
     "text": [
      "[nltk_data] Downloading package punkt to\n",
      "[nltk_data]     C:\\Users\\Carmen\\AppData\\Roaming\\nltk_data...\n",
      "[nltk_data]   Package punkt is already up-to-date!\n"
     ]
    }
   ],
   "source": [
    "import pandas as pd\n",
    "import numpy as np\n",
    "import re\n",
    "import sklearn\n",
    "import spacy\n",
    "import nltk\n",
    "from nltk import sent_tokenize, word_tokenize\n",
    "nltk.download('punkt')\n",
    "import warnings\n",
    "warnings.filterwarnings(\"ignore\")"
   ]
  },
  {
   "cell_type": "code",
   "execution_count": 219,
   "metadata": {},
   "outputs": [
    {
     "data": {
      "text/html": [
       "<div>\n",
       "<style scoped>\n",
       "    .dataframe tbody tr th:only-of-type {\n",
       "        vertical-align: middle;\n",
       "    }\n",
       "\n",
       "    .dataframe tbody tr th {\n",
       "        vertical-align: top;\n",
       "    }\n",
       "\n",
       "    .dataframe thead th {\n",
       "        text-align: right;\n",
       "    }\n",
       "</style>\n",
       "<table border=\"1\" class=\"dataframe\">\n",
       "  <thead>\n",
       "    <tr style=\"text-align: right;\">\n",
       "      <th></th>\n",
       "      <th>Spanish_text</th>\n",
       "      <th>English_text</th>\n",
       "    </tr>\n",
       "  </thead>\n",
       "  <tbody>\n",
       "    <tr>\n",
       "      <th>0</th>\n",
       "      <td>Esta tesis quiere profundizar sobre el caso de...</td>\n",
       "      <td>This thesis wants to delve into the case of th...</td>\n",
       "    </tr>\n",
       "    <tr>\n",
       "      <th>1</th>\n",
       "      <td>La violencia en sus diversas variantes está pr...</td>\n",
       "      <td>Violence in its several variations is present ...</td>\n",
       "    </tr>\n",
       "    <tr>\n",
       "      <th>2</th>\n",
       "      <td>Esta tesis doctoral es un ensayo clínico que, ...</td>\n",
       "      <td>This doctoral thesis is a clinical trial that ...</td>\n",
       "    </tr>\n",
       "    <tr>\n",
       "      <th>3</th>\n",
       "      <td>La frustración es un fenómeno que puede mitiga...</td>\n",
       "      <td>Frustration can be mitigated if there has been...</td>\n",
       "    </tr>\n",
       "    <tr>\n",
       "      <th>4</th>\n",
       "      <td>Las políticas lingüísticas europeas promueven ...</td>\n",
       "      <td>European language policies promote the trainin...</td>\n",
       "    </tr>\n",
       "  </tbody>\n",
       "</table>\n",
       "</div>"
      ],
      "text/plain": [
       "                                        Spanish_text  \\\n",
       "0  Esta tesis quiere profundizar sobre el caso de...   \n",
       "1  La violencia en sus diversas variantes está pr...   \n",
       "2  Esta tesis doctoral es un ensayo clínico que, ...   \n",
       "3  La frustración es un fenómeno que puede mitiga...   \n",
       "4  Las políticas lingüísticas europeas promueven ...   \n",
       "\n",
       "                                        English_text  \n",
       "0  This thesis wants to delve into the case of th...  \n",
       "1  Violence in its several variations is present ...  \n",
       "2  This doctoral thesis is a clinical trial that ...  \n",
       "3  Frustration can be mitigated if there has been...  \n",
       "4  European language policies promote the trainin...  "
      ]
     },
     "execution_count": 219,
     "metadata": {},
     "output_type": "execute_result"
    }
   ],
   "source": [
    "lang_df = pd.read_csv('lang_doc.csv')\n",
    "lang_df.head()"
   ]
  },
  {
   "cell_type": "code",
   "execution_count": 220,
   "metadata": {},
   "outputs": [],
   "source": [
    "lang_df[['Spanish_text', 'English_text']] = lang_df[['Spanish_text', 'English_text']].replace(r\"\\(.*\\)\",\"\")"
   ]
  },
  {
   "cell_type": "code",
   "execution_count": 221,
   "metadata": {},
   "outputs": [],
   "source": [
    "lang_df[\"tokenized_spanish\"] = lang_df[\"Spanish_text\"].apply(sent_tokenize)\n",
    "lang_df[\"tokenized_english\"] = lang_df[\"English_text\"].apply(sent_tokenize)"
   ]
  },
  {
   "cell_type": "code",
   "execution_count": null,
   "metadata": {},
   "outputs": [],
   "source": []
  },
  {
   "cell_type": "code",
   "execution_count": 233,
   "metadata": {},
   "outputs": [
    {
     "data": {
      "text/html": [
       "<div>\n",
       "<style scoped>\n",
       "    .dataframe tbody tr th:only-of-type {\n",
       "        vertical-align: middle;\n",
       "    }\n",
       "\n",
       "    .dataframe tbody tr th {\n",
       "        vertical-align: top;\n",
       "    }\n",
       "\n",
       "    .dataframe thead th {\n",
       "        text-align: right;\n",
       "    }\n",
       "</style>\n",
       "<table border=\"1\" class=\"dataframe\">\n",
       "  <thead>\n",
       "    <tr style=\"text-align: right;\">\n",
       "      <th></th>\n",
       "      <th>Spanish_text</th>\n",
       "      <th>English_text</th>\n",
       "      <th>tokenized_spanish</th>\n",
       "      <th>tokenized_english</th>\n",
       "    </tr>\n",
       "  </thead>\n",
       "  <tbody>\n",
       "    <tr>\n",
       "      <th>0</th>\n",
       "      <td>Esta tesis quiere profundizar sobre el caso de...</td>\n",
       "      <td>This thesis wants to delve into the case of th...</td>\n",
       "      <td>[Esta tesis quiere profundizar sobre el caso d...</td>\n",
       "      <td>[This thesis wants to delve into the case of t...</td>\n",
       "    </tr>\n",
       "    <tr>\n",
       "      <th>1</th>\n",
       "      <td>La violencia en sus diversas variantes está pr...</td>\n",
       "      <td>Violence in its several variations is present ...</td>\n",
       "      <td>[La violencia en sus diversas variantes está p...</td>\n",
       "      <td>[Violence in its several variations is present...</td>\n",
       "    </tr>\n",
       "    <tr>\n",
       "      <th>2</th>\n",
       "      <td>Esta tesis doctoral es un ensayo clínico que, ...</td>\n",
       "      <td>This doctoral thesis is a clinical trial that ...</td>\n",
       "      <td>[Esta tesis doctoral es un ensayo clínico que,...</td>\n",
       "      <td>[This doctoral thesis is a clinical trial that...</td>\n",
       "    </tr>\n",
       "    <tr>\n",
       "      <th>3</th>\n",
       "      <td>La frustración es un fenómeno que puede mitiga...</td>\n",
       "      <td>Frustration can be mitigated if there has been...</td>\n",
       "      <td>[La frustración es un fenómeno que puede mitig...</td>\n",
       "      <td>[Frustration can be mitigated if there has bee...</td>\n",
       "    </tr>\n",
       "    <tr>\n",
       "      <th>4</th>\n",
       "      <td>Las políticas lingüísticas europeas promueven ...</td>\n",
       "      <td>European language policies promote the trainin...</td>\n",
       "      <td>[Las políticas lingüísticas europeas promueven...</td>\n",
       "      <td>[European language policies promote the traini...</td>\n",
       "    </tr>\n",
       "  </tbody>\n",
       "</table>\n",
       "</div>"
      ],
      "text/plain": [
       "                                        Spanish_text  \\\n",
       "0  Esta tesis quiere profundizar sobre el caso de...   \n",
       "1  La violencia en sus diversas variantes está pr...   \n",
       "2  Esta tesis doctoral es un ensayo clínico que, ...   \n",
       "3  La frustración es un fenómeno que puede mitiga...   \n",
       "4  Las políticas lingüísticas europeas promueven ...   \n",
       "\n",
       "                                        English_text  \\\n",
       "0  This thesis wants to delve into the case of th...   \n",
       "1  Violence in its several variations is present ...   \n",
       "2  This doctoral thesis is a clinical trial that ...   \n",
       "3  Frustration can be mitigated if there has been...   \n",
       "4  European language policies promote the trainin...   \n",
       "\n",
       "                                   tokenized_spanish  \\\n",
       "0  [Esta tesis quiere profundizar sobre el caso d...   \n",
       "1  [La violencia en sus diversas variantes está p...   \n",
       "2  [Esta tesis doctoral es un ensayo clínico que,...   \n",
       "3  [La frustración es un fenómeno que puede mitig...   \n",
       "4  [Las políticas lingüísticas europeas promueven...   \n",
       "\n",
       "                                   tokenized_english  \n",
       "0  [This thesis wants to delve into the case of t...  \n",
       "1  [Violence in its several variations is present...  \n",
       "2  [This doctoral thesis is a clinical trial that...  \n",
       "3  [Frustration can be mitigated if there has bee...  \n",
       "4  [European language policies promote the traini...  "
      ]
     },
     "execution_count": 233,
     "metadata": {},
     "output_type": "execute_result"
    }
   ],
   "source": [
    "lang_df.head()"
   ]
  },
  {
   "cell_type": "code",
   "execution_count": 107,
   "metadata": {},
   "outputs": [],
   "source": [
    "nlp = spacy.load(\"en_core_web_sm\")\n",
    "lang_df['Spanish_text'] = lang_df['Spanish_text'].apply(lambda x: nlp(x))\n",
    "lang_df['English_text'] = lang_df['English_text'].apply(lambda x: nlp(x))"
   ]
  },
  {
   "cell_type": "code",
   "execution_count": null,
   "metadata": {},
   "outputs": [],
   "source": []
  }
 ],
 "metadata": {
  "kernelspec": {
   "display_name": "Python 3",
   "language": "python",
   "name": "python3"
  },
  "language_info": {
   "codemirror_mode": {
    "name": "ipython",
    "version": 3
   },
   "file_extension": ".py",
   "mimetype": "text/x-python",
   "name": "python",
   "nbconvert_exporter": "python",
   "pygments_lexer": "ipython3",
   "version": "3.8.5"
  }
 },
 "nbformat": 4,
 "nbformat_minor": 4
}
