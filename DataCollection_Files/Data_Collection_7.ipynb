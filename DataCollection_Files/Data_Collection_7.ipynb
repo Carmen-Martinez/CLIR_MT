{
 "cells": [
  {
   "cell_type": "code",
   "execution_count": 132,
   "metadata": {},
   "outputs": [],
   "source": [
    "import numpy as np\n",
    "import pandas as pd\n",
    "import time\n",
    "import re\n",
    "\n",
    "from selenium import webdriver\n",
    "from selenium.webdriver.common.keys import Keys\n",
    "from selenium.webdriver.common.by import By\n",
    "from selenium.webdriver.support.ui import WebDriverWait\n",
    "from selenium.webdriver.support import expected_conditions as EC\n",
    "from selenium.common.exceptions import TimeoutException\n",
    "from selenium.common.exceptions import NoSuchElementException"
   ]
  },
  {
   "cell_type": "markdown",
   "metadata": {},
   "source": [
    "### Extract All The Links"
   ]
  },
  {
   "cell_type": "code",
   "execution_count": 205,
   "metadata": {},
   "outputs": [],
   "source": [
    "PATH = \"C:\\Program Files (x86)\\web_driver\\chromedriver.exe\"\n",
    "driver = webdriver.Chrome(PATH)\n",
    "\n",
    "# start at this page\n",
    "driver.get('https://dialnet.unirioja.es/tesis/fechalectura?registrosPorPagina=20&inicio=450')"
   ]
  },
  {
   "cell_type": "code",
   "execution_count": 206,
   "metadata": {},
   "outputs": [],
   "source": [
    "def lang_scraper(num=8):\n",
    "    absLinks=[]\n",
    "    max_pages = 0\n",
    "    while True:\n",
    "        link1 = driver.find_elements_by_css_selector(\"span.titulo\")\n",
    "        for tags in link1:\n",
    "            link2 = tags.find_elements_by_tag_name(\"a\")\n",
    "            for link3 in link2:\n",
    "                absLinks.append(link3.get_attribute(\"href\"))\n",
    "        # extract links\n",
    "        try:\n",
    "            time.sleep(5)\n",
    "            driver.find_element_by_xpath('//*[@id=\"pieDeListadoDeBusquedaDeAutores\"]/ul/li[4]/a').click() \n",
    "            max_pages += 1\n",
    "            if max_pages == num:\n",
    "                return absLinks\n",
    "                break\n",
    "        # stop if no more pages available\n",
    "        except NoSuchElementException:\n",
    "            break  "
   ]
  },
  {
   "cell_type": "code",
   "execution_count": 208,
   "metadata": {},
   "outputs": [],
   "source": [
    "collect = lang_scraper()"
   ]
  },
  {
   "cell_type": "code",
   "execution_count": 192,
   "metadata": {},
   "outputs": [
    {
     "data": {
      "text/plain": [
       "160"
      ]
     },
     "execution_count": 192,
     "metadata": {},
     "output_type": "execute_result"
    }
   ],
   "source": [
    "len(collect)"
   ]
  },
  {
   "cell_type": "markdown",
   "metadata": {},
   "source": [
    "### Get Contents From Each Link"
   ]
  },
  {
   "cell_type": "code",
   "execution_count": 209,
   "metadata": {},
   "outputs": [
    {
     "name": "stdout",
     "output_type": "stream",
     "text": [
      "Wall time: 21min 24s\n"
     ]
    }
   ],
   "source": [
    "%%time\n",
    "data = []\n",
    "for link in collect:\n",
    "    time.sleep(7)\n",
    "    driver.get(link)\n",
    "\n",
    "    try:\n",
    "        contents = driver.find_elements_by_xpath('//*[@id=\"resumen\"]')\n",
    "        for content in contents:\n",
    "            language = content.text \n",
    "    except NoSuchElementException:\n",
    "        break\n",
    "\n",
    "    #collect the data\n",
    "    lang= {'content': language}\n",
    "    data.append(lang)\n"
   ]
  },
  {
   "cell_type": "code",
   "execution_count": 210,
   "metadata": {},
   "outputs": [],
   "source": [
    "en_sp = pd.DataFrame(data)"
   ]
  },
  {
   "cell_type": "code",
   "execution_count": 211,
   "metadata": {},
   "outputs": [
    {
     "data": {
      "text/plain": [
       "160"
      ]
     },
     "execution_count": 211,
     "metadata": {},
     "output_type": "execute_result"
    }
   ],
   "source": [
    "len(en_sp)"
   ]
  },
  {
   "cell_type": "markdown",
   "metadata": {},
   "source": [
    "### Data Cleaning"
   ]
  },
  {
   "cell_type": "code",
   "execution_count": 212,
   "metadata": {},
   "outputs": [],
   "source": [
    "# remove \\n \n",
    "en_sp['content'] = en_sp['content'].apply(lambda x: re.sub(r'\\n', '', x))\n",
    "\n",
    "# return only rows with 'Espanol' in the text (because it contains english translate too)\n",
    "en_sp['Spanish'] = en_sp['content'].apply(lambda x: x if 'Español' in x else 0)\n",
    "\n",
    "# remove rows with 0\n",
    "en_sp = en_sp[en_sp['Spanish'] != 0]\n",
    "\n",
    "# create two new variables: Spanish_text, English_text to separate the translations\n",
    "en_sp['Spanish_text'] = en_sp['Spanish'].apply(lambda x: x.split('English')[0])\n",
    "en_sp['English_text'] = en_sp['Spanish'].apply(lambda x: x.split('English')[-1])\n",
    "\n",
    "# remove 'Galego' translation in the English_text variable\n",
    "en_sp['English_text'] = en_sp['English_text'].apply(lambda x: x.split('Galego')[0] if 'Galego' in x else x)\n",
    "\n",
    "en_sp['Spanish_text'] = en_sp['Spanish_text'].apply(lambda x: x.split('Español')[-1])\n",
    "\n",
    "# remove any text that contains 'Español' in the English_text\n",
    "en_sp['English_text'] = en_sp['English_text'].apply(lambda x: 0 if 'Español' in x else x)\n",
    "\n",
    "# remove rows with 0\n",
    "en_sp = en_sp[en_sp['English_text'] != 0]\n"
   ]
  },
  {
   "cell_type": "code",
   "execution_count": 213,
   "metadata": {},
   "outputs": [],
   "source": [
    "# make sure Spanish_text and English_text do not have the same value\n",
    "en_sp = en_sp[en_sp['Spanish_text'] != en_sp['English_text']]\n"
   ]
  },
  {
   "cell_type": "code",
   "execution_count": 214,
   "metadata": {},
   "outputs": [],
   "source": [
    "# format dataframe\n",
    "en_sp.reset_index(inplace=True)\n",
    "en_sp.drop(['index', 'content', 'Spanish'], axis=1, inplace=True)"
   ]
  },
  {
   "cell_type": "code",
   "execution_count": 215,
   "metadata": {},
   "outputs": [
    {
     "data": {
      "text/plain": [
       "64"
      ]
     },
     "execution_count": 215,
     "metadata": {},
     "output_type": "execute_result"
    }
   ],
   "source": [
    "len(en_sp)"
   ]
  },
  {
   "cell_type": "code",
   "execution_count": 216,
   "metadata": {},
   "outputs": [
    {
     "data": {
      "text/plain": [
       "'La tenacidad de fractura en modo I (KIC) es uno de los parámetros más importantes en la mecánica de fractura aplicada a rocas. KIC es una propiedad intrínseca del material que representa su capacidad para resistir su rotura a tracción en la presencia de un defecto preexistente. La Sociedad Internacional para la Mecánica de Rocas (ISRM) ha sugerido cuatro métodos para determinar KIC, pero todos presentan algunos inconvenientes. El principal objetivo de esta tesis es desarrollar un método de ensayo simple, llamado ‘pseudo-compact tensión’ (pCT), para determinar KIC en rocas mediante muestras cilíndricas ensayadas bajo condiciones de tracción pura. El estudio se basa en los resultados de un número de ensayos llevados a cabo con distintos tipos de roca, tamaños de probeta y longitudes de entalla. Los valores de KIC obtenidos con el ensayo pCT se comparan con los obtenidos con el ensayo ‘semi-circular bend’ (SCB), uno de los métodos sugeridos por la ISRM. En algunos de estos ensayos también se registró la emisión acústica (AE). Con los datos obtenidos, comparamos y analizamos ambos métodos, los efectos del tamaño de probeta, longitud de entalla y litología, la evolución mecánica y la importancia de diferentes parámetros de AE durante los ensayos.'"
      ]
     },
     "execution_count": 216,
     "metadata": {},
     "output_type": "execute_result"
    }
   ],
   "source": [
    "en_sp['Spanish_text'][10]"
   ]
  },
  {
   "cell_type": "code",
   "execution_count": 217,
   "metadata": {},
   "outputs": [
    {
     "data": {
      "text/plain": [
       "'Mode I fracture toughness (KIC) is one of the most important parameters in rock fracture mechanics. KIC is an intrinsic material property that represents the ability of a material containing a pre-existing defect to resist tensile failure. The International Society for Rock Mechanics (ISRM) has proposed four suggested methods for determining KIC. However, these methods present some drawbacks. The main objective of this thesis is to develop a simple testing approach, called pseudo-compact tension (pCT) test, to measure KIC in rocks using cylindrical single edge-notched specimens loaded in pure tension. The study is based on the results of a large set of fracture toughness experiments performed with different rock types, sample sizes, and a range of notch length ratios. The KIC values derived with the pCT test are compared with those obtained with one of the suggested methods of the ISRM, the semi-circular bend (SCB) test. Some selected pCT and SCB tests were also complemented with the concurrent monitoring of the acoustic emission (AE) activity. With the obtained data, we compare and analyse both testing methods, the effects of specimen size, notch length and lithology, the mechanical evolution along the experiments and the significance of different AE parameters.'"
      ]
     },
     "execution_count": 217,
     "metadata": {},
     "output_type": "execute_result"
    }
   ],
   "source": [
    "en_sp['English_text'][10]"
   ]
  },
  {
   "cell_type": "code",
   "execution_count": 218,
   "metadata": {},
   "outputs": [],
   "source": [
    "en_sp.to_csv('../CSV_files/lang_doc13.csv', index=False)"
   ]
  },
  {
   "cell_type": "code",
   "execution_count": null,
   "metadata": {},
   "outputs": [],
   "source": []
  }
 ],
 "metadata": {
  "kernelspec": {
   "display_name": "Python 3",
   "language": "python",
   "name": "python3"
  },
  "language_info": {
   "codemirror_mode": {
    "name": "ipython",
    "version": 3
   },
   "file_extension": ".py",
   "mimetype": "text/x-python",
   "name": "python",
   "nbconvert_exporter": "python",
   "pygments_lexer": "ipython3",
   "version": "3.8.5"
  }
 },
 "nbformat": 4,
 "nbformat_minor": 4
}
