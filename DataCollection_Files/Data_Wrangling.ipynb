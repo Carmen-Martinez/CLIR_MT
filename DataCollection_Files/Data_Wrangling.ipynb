{
 "cells": [
  {
   "cell_type": "code",
   "execution_count": 123,
   "metadata": {},
   "outputs": [
    {
     "name": "stderr",
     "output_type": "stream",
     "text": [
      "[nltk_data] Downloading package punkt to\n",
      "[nltk_data]     C:\\Users\\Carmen\\AppData\\Roaming\\nltk_data...\n",
      "[nltk_data]   Package punkt is already up-to-date!\n"
     ]
    }
   ],
   "source": [
    "import pandas as pd\n",
    "import pandas, sys\n",
    "import numpy as np\n",
    "import re\n",
    "import sklearn\n",
    "import spacy\n",
    "import nltk\n",
    "from nltk import sent_tokenize, word_tokenize\n",
    "nltk.download('punkt')\n",
    "import warnings\n",
    "warnings.filterwarnings(\"ignore\")"
   ]
  },
  {
   "cell_type": "markdown",
   "metadata": {},
   "source": [
    "### Concatenating Data"
   ]
  },
  {
   "cell_type": "code",
   "execution_count": 210,
   "metadata": {},
   "outputs": [],
   "source": [
    "df1 = pd.read_csv(\"../CSV_files/lang_doc.csv\")\n",
    "df2 = pd.read_csv(\"../CSV_files/lang_doc2.csv\")\n",
    "df3 = pd.read_csv(\"../CSV_files/lang_doc3.csv\")\n",
    "df4 = pd.read_csv(\"../CSV_files/lang_doc4.csv\")\n",
    "df5 = pd.read_csv(\"../CSV_files/lang_doc5.csv\")\n",
    "df6 = pd.read_csv(\"../CSV_files/lang_doc6.csv\")\n",
    "df7 = pd.read_csv(\"../CSV_files/lang_doc7.csv\")\n",
    "df8 = pd.read_csv(\"../CSV_files/lang_doc8.csv\")\n",
    "df9 = pd.read_csv(\"../CSV_files/lang_doc9.csv\")\n",
    "df10 = pd.read_csv(\"../CSV_files/lang_doc10.csv\")\n",
    "df11 = pd.read_csv(\"../CSV_files/lang_doc11.csv\")\n",
    "df12 = pd.read_csv(\"../CSV_files/lang_doc12.csv\")\n",
    "\n",
    "lang_df = pd.concat([df1, df2, df3, df4, df5, df6, df7, df8, df9, df10, df11, df12],  ignore_index=True)"
   ]
  },
  {
   "cell_type": "code",
   "execution_count": 211,
   "metadata": {},
   "outputs": [
    {
     "data": {
      "text/html": [
       "<div>\n",
       "<style scoped>\n",
       "    .dataframe tbody tr th:only-of-type {\n",
       "        vertical-align: middle;\n",
       "    }\n",
       "\n",
       "    .dataframe tbody tr th {\n",
       "        vertical-align: top;\n",
       "    }\n",
       "\n",
       "    .dataframe thead th {\n",
       "        text-align: right;\n",
       "    }\n",
       "</style>\n",
       "<table border=\"1\" class=\"dataframe\">\n",
       "  <thead>\n",
       "    <tr style=\"text-align: right;\">\n",
       "      <th></th>\n",
       "      <th>Spanish_text</th>\n",
       "      <th>English_text</th>\n",
       "    </tr>\n",
       "  </thead>\n",
       "  <tbody>\n",
       "    <tr>\n",
       "      <th>0</th>\n",
       "      <td>Esta tesis quiere profundizar sobre el caso de...</td>\n",
       "      <td>This thesis wants to delve into the case of th...</td>\n",
       "    </tr>\n",
       "    <tr>\n",
       "      <th>1</th>\n",
       "      <td>La violencia en sus diversas variantes está pr...</td>\n",
       "      <td>Violence in its several variations is present ...</td>\n",
       "    </tr>\n",
       "    <tr>\n",
       "      <th>2</th>\n",
       "      <td>Esta tesis doctoral es un ensayo clínico que, ...</td>\n",
       "      <td>This doctoral thesis is a clinical trial that ...</td>\n",
       "    </tr>\n",
       "    <tr>\n",
       "      <th>3</th>\n",
       "      <td>La frustración es un fenómeno que puede mitiga...</td>\n",
       "      <td>Frustration can be mitigated if there has been...</td>\n",
       "    </tr>\n",
       "    <tr>\n",
       "      <th>4</th>\n",
       "      <td>Las políticas lingüísticas europeas promueven ...</td>\n",
       "      <td>European language policies promote the trainin...</td>\n",
       "    </tr>\n",
       "  </tbody>\n",
       "</table>\n",
       "</div>"
      ],
      "text/plain": [
       "                                        Spanish_text  \\\n",
       "0  Esta tesis quiere profundizar sobre el caso de...   \n",
       "1  La violencia en sus diversas variantes está pr...   \n",
       "2  Esta tesis doctoral es un ensayo clínico que, ...   \n",
       "3  La frustración es un fenómeno que puede mitiga...   \n",
       "4  Las políticas lingüísticas europeas promueven ...   \n",
       "\n",
       "                                        English_text  \n",
       "0  This thesis wants to delve into the case of th...  \n",
       "1  Violence in its several variations is present ...  \n",
       "2  This doctoral thesis is a clinical trial that ...  \n",
       "3  Frustration can be mitigated if there has been...  \n",
       "4  European language policies promote the trainin...  "
      ]
     },
     "execution_count": 211,
     "metadata": {},
     "output_type": "execute_result"
    }
   ],
   "source": [
    "lang_df.head()"
   ]
  },
  {
   "cell_type": "code",
   "execution_count": 212,
   "metadata": {},
   "outputs": [
    {
     "data": {
      "text/plain": [
       "(402, 2)"
      ]
     },
     "execution_count": 212,
     "metadata": {},
     "output_type": "execute_result"
    }
   ],
   "source": [
    "lang_df.shape"
   ]
  },
  {
   "cell_type": "markdown",
   "metadata": {},
   "source": [
    "### More Cleaning + tokenizing sentences"
   ]
  },
  {
   "cell_type": "code",
   "execution_count": 213,
   "metadata": {},
   "outputs": [],
   "source": [
    "lang_df[['Spanish_text', 'English_text']] = lang_df[['Spanish_text', 'English_text']].replace(r\"\\(.*\\)\",\"\")"
   ]
  },
  {
   "cell_type": "code",
   "execution_count": 214,
   "metadata": {},
   "outputs": [],
   "source": [
    "# remove any text that contains 'Español' in English_text variable\n",
    "lang_df['English_text'] = lang_df['English_text'].apply(lambda x: 0 if 'Español' in x else x)\n",
    "\n",
    "# remove rows with 0\n",
    "lang_df = lang_df[lang_df['English_text'] != 0]"
   ]
  },
  {
   "cell_type": "code",
   "execution_count": 215,
   "metadata": {},
   "outputs": [],
   "source": [
    "# storing each sentence in a list using sent_tokenize()\n",
    "lang_df[\"tokenized_spanish\"] = lang_df[\"Spanish_text\"].apply(sent_tokenize)\n",
    "lang_df[\"tokenized_english\"] = lang_df[\"English_text\"].apply(sent_tokenize)"
   ]
  },
  {
   "cell_type": "code",
   "execution_count": 216,
   "metadata": {},
   "outputs": [
    {
     "data": {
      "text/html": [
       "<div>\n",
       "<style scoped>\n",
       "    .dataframe tbody tr th:only-of-type {\n",
       "        vertical-align: middle;\n",
       "    }\n",
       "\n",
       "    .dataframe tbody tr th {\n",
       "        vertical-align: top;\n",
       "    }\n",
       "\n",
       "    .dataframe thead th {\n",
       "        text-align: right;\n",
       "    }\n",
       "</style>\n",
       "<table border=\"1\" class=\"dataframe\">\n",
       "  <thead>\n",
       "    <tr style=\"text-align: right;\">\n",
       "      <th></th>\n",
       "      <th>Spanish_text</th>\n",
       "      <th>English_text</th>\n",
       "      <th>tokenized_spanish</th>\n",
       "      <th>tokenized_english</th>\n",
       "    </tr>\n",
       "  </thead>\n",
       "  <tbody>\n",
       "    <tr>\n",
       "      <th>0</th>\n",
       "      <td>Esta tesis quiere profundizar sobre el caso de...</td>\n",
       "      <td>This thesis wants to delve into the case of th...</td>\n",
       "      <td>[Esta tesis quiere profundizar sobre el caso d...</td>\n",
       "      <td>[This thesis wants to delve into the case of t...</td>\n",
       "    </tr>\n",
       "    <tr>\n",
       "      <th>1</th>\n",
       "      <td>La violencia en sus diversas variantes está pr...</td>\n",
       "      <td>Violence in its several variations is present ...</td>\n",
       "      <td>[La violencia en sus diversas variantes está p...</td>\n",
       "      <td>[Violence in its several variations is present...</td>\n",
       "    </tr>\n",
       "    <tr>\n",
       "      <th>2</th>\n",
       "      <td>Esta tesis doctoral es un ensayo clínico que, ...</td>\n",
       "      <td>This doctoral thesis is a clinical trial that ...</td>\n",
       "      <td>[Esta tesis doctoral es un ensayo clínico que,...</td>\n",
       "      <td>[This doctoral thesis is a clinical trial that...</td>\n",
       "    </tr>\n",
       "    <tr>\n",
       "      <th>3</th>\n",
       "      <td>La frustración es un fenómeno que puede mitiga...</td>\n",
       "      <td>Frustration can be mitigated if there has been...</td>\n",
       "      <td>[La frustración es un fenómeno que puede mitig...</td>\n",
       "      <td>[Frustration can be mitigated if there has bee...</td>\n",
       "    </tr>\n",
       "    <tr>\n",
       "      <th>4</th>\n",
       "      <td>Las políticas lingüísticas europeas promueven ...</td>\n",
       "      <td>European language policies promote the trainin...</td>\n",
       "      <td>[Las políticas lingüísticas europeas promueven...</td>\n",
       "      <td>[European language policies promote the traini...</td>\n",
       "    </tr>\n",
       "  </tbody>\n",
       "</table>\n",
       "</div>"
      ],
      "text/plain": [
       "                                        Spanish_text  \\\n",
       "0  Esta tesis quiere profundizar sobre el caso de...   \n",
       "1  La violencia en sus diversas variantes está pr...   \n",
       "2  Esta tesis doctoral es un ensayo clínico que, ...   \n",
       "3  La frustración es un fenómeno que puede mitiga...   \n",
       "4  Las políticas lingüísticas europeas promueven ...   \n",
       "\n",
       "                                        English_text  \\\n",
       "0  This thesis wants to delve into the case of th...   \n",
       "1  Violence in its several variations is present ...   \n",
       "2  This doctoral thesis is a clinical trial that ...   \n",
       "3  Frustration can be mitigated if there has been...   \n",
       "4  European language policies promote the trainin...   \n",
       "\n",
       "                                   tokenized_spanish  \\\n",
       "0  [Esta tesis quiere profundizar sobre el caso d...   \n",
       "1  [La violencia en sus diversas variantes está p...   \n",
       "2  [Esta tesis doctoral es un ensayo clínico que,...   \n",
       "3  [La frustración es un fenómeno que puede mitig...   \n",
       "4  [Las políticas lingüísticas europeas promueven...   \n",
       "\n",
       "                                   tokenized_english  \n",
       "0  [This thesis wants to delve into the case of t...  \n",
       "1  [Violence in its several variations is present...  \n",
       "2  [This doctoral thesis is a clinical trial that...  \n",
       "3  [Frustration can be mitigated if there has bee...  \n",
       "4  [European language policies promote the traini...  "
      ]
     },
     "execution_count": 216,
     "metadata": {},
     "output_type": "execute_result"
    }
   ],
   "source": [
    "lang_df.head()"
   ]
  },
  {
   "cell_type": "code",
   "execution_count": 217,
   "metadata": {},
   "outputs": [],
   "source": [
    "# create variables with len in spanish and english\n",
    "lang_df['len_token_spanish'] = lang_df['tokenized_spanish'].apply(lambda x: len(x))\n",
    "lang_df['len_token_english'] = lang_df['tokenized_english'].apply(lambda x: len(x))"
   ]
  },
  {
   "cell_type": "code",
   "execution_count": 218,
   "metadata": {},
   "outputs": [],
   "source": [
    "# dropped unequal sentence lengths\n",
    "lang_df = lang_df[lang_df['len_token_spanish'] == lang_df['len_token_english']]"
   ]
  },
  {
   "cell_type": "code",
   "execution_count": 219,
   "metadata": {},
   "outputs": [],
   "source": [
    "# drop irrelevent variables\n",
    "lang_df.drop(['Spanish_text', 'English_text', 'len_token_spanish', 'len_token_english'], axis=1, inplace=True)"
   ]
  },
  {
   "cell_type": "code",
   "execution_count": 220,
   "metadata": {},
   "outputs": [
    {
     "data": {
      "text/html": [
       "<div>\n",
       "<style scoped>\n",
       "    .dataframe tbody tr th:only-of-type {\n",
       "        vertical-align: middle;\n",
       "    }\n",
       "\n",
       "    .dataframe tbody tr th {\n",
       "        vertical-align: top;\n",
       "    }\n",
       "\n",
       "    .dataframe thead th {\n",
       "        text-align: right;\n",
       "    }\n",
       "</style>\n",
       "<table border=\"1\" class=\"dataframe\">\n",
       "  <thead>\n",
       "    <tr style=\"text-align: right;\">\n",
       "      <th></th>\n",
       "      <th>tokenized_spanish</th>\n",
       "      <th>tokenized_english</th>\n",
       "    </tr>\n",
       "  </thead>\n",
       "  <tbody>\n",
       "    <tr>\n",
       "      <th>1</th>\n",
       "      <td>[La violencia en sus diversas variantes está p...</td>\n",
       "      <td>[Violence in its several variations is present...</td>\n",
       "    </tr>\n",
       "    <tr>\n",
       "      <th>2</th>\n",
       "      <td>[Esta tesis doctoral es un ensayo clínico que,...</td>\n",
       "      <td>[This doctoral thesis is a clinical trial that...</td>\n",
       "    </tr>\n",
       "    <tr>\n",
       "      <th>5</th>\n",
       "      <td>[Los pabellones de conveniencia han tenido un ...</td>\n",
       "      <td>[Flags of convenience have had a deep impact o...</td>\n",
       "    </tr>\n",
       "    <tr>\n",
       "      <th>9</th>\n",
       "      <td>[Los seres humanos y los animales experimentan...</td>\n",
       "      <td>[Humans and animals undergo morphological deve...</td>\n",
       "    </tr>\n",
       "    <tr>\n",
       "      <th>12</th>\n",
       "      <td>[La irrupción de los sistemas de derechos huma...</td>\n",
       "      <td>[The irruption of human rights systems at a co...</td>\n",
       "    </tr>\n",
       "  </tbody>\n",
       "</table>\n",
       "</div>"
      ],
      "text/plain": [
       "                                    tokenized_spanish  \\\n",
       "1   [La violencia en sus diversas variantes está p...   \n",
       "2   [Esta tesis doctoral es un ensayo clínico que,...   \n",
       "5   [Los pabellones de conveniencia han tenido un ...   \n",
       "9   [Los seres humanos y los animales experimentan...   \n",
       "12  [La irrupción de los sistemas de derechos huma...   \n",
       "\n",
       "                                    tokenized_english  \n",
       "1   [Violence in its several variations is present...  \n",
       "2   [This doctoral thesis is a clinical trial that...  \n",
       "5   [Flags of convenience have had a deep impact o...  \n",
       "9   [Humans and animals undergo morphological deve...  \n",
       "12  [The irruption of human rights systems at a co...  "
      ]
     },
     "execution_count": 220,
     "metadata": {},
     "output_type": "execute_result"
    }
   ],
   "source": [
    "lang_df.head()"
   ]
  },
  {
   "cell_type": "markdown",
   "metadata": {},
   "source": [
    "### 'exploding' the lists of sentences into own rows"
   ]
  },
  {
   "cell_type": "code",
   "execution_count": 221,
   "metadata": {},
   "outputs": [],
   "source": [
    "# make sentences in the lists it's own row\n",
    "lang_df2 =lang_df.apply(pd.Series.explode).reset_index()\n",
    "lang_df2.drop('index', axis=1, inplace=True)\n",
    "\n",
    "# renaming variables\n",
    "lang_df2.rename(columns = {'tokenized_spanish' : 'Spanish', 'tokenized_english' : 'English'}, inplace = True)"
   ]
  },
  {
   "cell_type": "code",
   "execution_count": 222,
   "metadata": {},
   "outputs": [
    {
     "data": {
      "text/plain": [
       "1888"
      ]
     },
     "execution_count": 222,
     "metadata": {},
     "output_type": "execute_result"
    }
   ],
   "source": [
    "len(lang_df2)"
   ]
  },
  {
   "cell_type": "markdown",
   "metadata": {},
   "source": [
    "### Example Sentences"
   ]
  },
  {
   "cell_type": "code",
   "execution_count": 223,
   "metadata": {},
   "outputs": [
    {
     "data": {
      "text/plain": [
       "'Adicionalmente, con esta tesis se pretenden desarrollar técnicas efi-cientes que permitan su implementación en una red inalámbrica de senso-res acústicos en la cual el uso de otros métodos puede que no sea viable debido a restricciones tales como una capacidad de computo limitada o un ancho de banda restringido.Las propuestas de esta tesis vienen dadas por la necesidad de encontrar nuevas soluciones para el análisis de fuentes acústicas impulsivas dado cuenta con aplicaciones prácticas en múltiples campos tales como: vigi-lancia y seguridad, control de armas, análisis forense o táctica mili-tar, por nombrar unos pocos.'"
      ]
     },
     "execution_count": 223,
     "metadata": {},
     "output_type": "execute_result"
    }
   ],
   "source": [
    "lang_df2['Spanish'][600]"
   ]
  },
  {
   "cell_type": "code",
   "execution_count": 224,
   "metadata": {},
   "outputs": [
    {
     "data": {
      "text/plain": [
       "'Thus, throughout the whole thesis, there is a constant tradeoff between performance and computational complexity.The proposals in this thesis come from the necessity for better automated impulsive sounds analysis systems given that they have practical applications in many fields such as forensics, surveillance and security, gun control or military tactics, to name a few.'"
      ]
     },
     "execution_count": 224,
     "metadata": {},
     "output_type": "execute_result"
    }
   ],
   "source": [
    "lang_df2['English'][600]"
   ]
  },
  {
   "cell_type": "code",
   "execution_count": 225,
   "metadata": {},
   "outputs": [],
   "source": [
    "lang_df2.to_csv('../CSV_files/sent_translations.csv')"
   ]
  },
  {
   "cell_type": "code",
   "execution_count": null,
   "metadata": {},
   "outputs": [],
   "source": []
  }
 ],
 "metadata": {
  "kernelspec": {
   "display_name": "Python 3",
   "language": "python",
   "name": "python3"
  },
  "language_info": {
   "codemirror_mode": {
    "name": "ipython",
    "version": 3
   },
   "file_extension": ".py",
   "mimetype": "text/x-python",
   "name": "python",
   "nbconvert_exporter": "python",
   "pygments_lexer": "ipython3",
   "version": "3.8.5"
  }
 },
 "nbformat": 4,
 "nbformat_minor": 4
}
