{
 "cells": [
  {
   "cell_type": "code",
   "execution_count": 2,
   "metadata": {},
   "outputs": [],
   "source": [
    "import numpy as np\n",
    "import pandas as pd\n",
    "import time\n",
    "import re\n",
    "\n",
    "from selenium import webdriver\n",
    "from selenium.webdriver.common.keys import Keys\n",
    "from selenium.webdriver.common.by import By\n",
    "from selenium.webdriver.support.ui import WebDriverWait\n",
    "from selenium.webdriver.support import expected_conditions as EC\n",
    "from selenium.common.exceptions import TimeoutException\n",
    "from selenium.common.exceptions import NoSuchElementException"
   ]
  },
  {
   "cell_type": "markdown",
   "metadata": {},
   "source": [
    "### Extract All The Links"
   ]
  },
  {
   "cell_type": "code",
   "execution_count": 99,
   "metadata": {},
   "outputs": [],
   "source": [
    "PATH = \"C:\\Program Files (x86)\\web_driver\\chromedriver.exe\"\n",
    "driver = webdriver.Chrome(PATH)\n",
    "\n",
    "driver.get('https://dialnet.unirioja.es/tesis/fechalectura')"
   ]
  },
  {
   "cell_type": "code",
   "execution_count": null,
   "metadata": {},
   "outputs": [],
   "source": [
    "%%time\n",
    "absLinks=[]\n",
    "max_pages = 0\n",
    "while True:\n",
    "    link1 = driver.find_elements_by_css_selector(\"span.titulo\")\n",
    "    for tags in link1:\n",
    "        link2 = tags.find_elements_by_tag_name(\"a\")\n",
    "        for link3 in link2:\n",
    "            absLinks.append(link3.get_attribute(\"href\"))\n",
    "    \n",
    "    # extract links\n",
    "    try:\n",
    "        time.sleep(7)\n",
    "        driver.find_element_by_xpath('//*[@id=\"pieDeListadoDeBusquedaDeAutores\"]/ul/li[4]/a').click() \n",
    "        max_pages += 1\n",
    "        if max_pages == 100:\n",
    "            break\n",
    "    # stop if no more pages available\n",
    "    except NoSuchElementException:\n",
    "        break"
   ]
  },
  {
   "cell_type": "markdown",
   "metadata": {},
   "source": [
    "### Get Contents From Each Link"
   ]
  },
  {
   "cell_type": "code",
   "execution_count": null,
   "metadata": {},
   "outputs": [],
   "source": [
    "data = []\n",
    "for link in absLinks:\n",
    "    time.sleep(5)\n",
    "    driver.get(link)\n",
    "\n",
    "    try:\n",
    "        contents = driver.find_elements_by_xpath('//*[@id=\"resumen\"]')\n",
    "        for content in contents:\n",
    "            language = content.text\n",
    "\n",
    "    except NoSuchElementException:\n",
    "        break\n",
    "\n",
    "    #collect the data\n",
    "    lang= {'content': language}\n",
    "    data.append(lang)"
   ]
  },
  {
   "cell_type": "code",
   "execution_count": 130,
   "metadata": {},
   "outputs": [],
   "source": [
    "en_sp = pd.DataFrame(data)"
   ]
  },
  {
   "cell_type": "code",
   "execution_count": 131,
   "metadata": {},
   "outputs": [
    {
     "data": {
      "text/plain": [
       "159"
      ]
     },
     "execution_count": 131,
     "metadata": {},
     "output_type": "execute_result"
    }
   ],
   "source": [
    "len(en_sp)"
   ]
  },
  {
   "cell_type": "markdown",
   "metadata": {},
   "source": [
    "### Data Cleaning"
   ]
  },
  {
   "cell_type": "code",
   "execution_count": 132,
   "metadata": {},
   "outputs": [],
   "source": [
    "# remove \\n \n",
    "en_sp['content'] = en_sp['content'].apply(lambda x: re.sub(r'\\n', '', x))\n",
    "\n",
    "# return only rows with 'Espanol' in the text (because it contains english translate too)\n",
    "en_sp['Spanish'] = en_sp['content'].apply(lambda x: x if 'Español' in x else 0)\n",
    "\n",
    "# remove rows with 0\n",
    "en_sp = en_sp[en_sp['Spanish'] != 0]\n",
    "\n",
    "# create two new variables: Spanish_text, English_text to separate the translations\n",
    "en_sp['Spanish_text'] = en_sp['Spanish'].apply(lambda x: x.split('English')[0])\n",
    "en_sp['English_text'] = en_sp['Spanish'].apply(lambda x: x.split('English')[-1])\n",
    "\n",
    "# remove 'Galego' translation in the English_text variable\n",
    "en_sp['English_text'] = en_sp['English_text'].apply(lambda x: x.split('Galego')[0] if 'Galego' in x else x)\n",
    "\n",
    "en_sp['Spanish_text'] = en_sp['Spanish_text'].apply(lambda x: x.split('Español')[-1])"
   ]
  },
  {
   "cell_type": "code",
   "execution_count": 133,
   "metadata": {},
   "outputs": [
    {
     "data": {
      "text/plain": [
       "55"
      ]
     },
     "execution_count": 133,
     "metadata": {},
     "output_type": "execute_result"
    }
   ],
   "source": [
    "# make sure Spanish_text and English_text do not have the same value\n",
    "en_sp = en_sp[en_sp['Spanish_text'] != en_sp['English_text']]\n",
    "len(en_sp)"
   ]
  },
  {
   "cell_type": "code",
   "execution_count": 134,
   "metadata": {},
   "outputs": [],
   "source": [
    "# format dataframe\n",
    "en_sp.reset_index(inplace=True)\n",
    "en_sp.drop(['index', 'content', 'Spanish'], axis=1, inplace=True)"
   ]
  },
  {
   "cell_type": "code",
   "execution_count": 156,
   "metadata": {},
   "outputs": [
    {
     "data": {
      "text/html": [
       "<div>\n",
       "<style scoped>\n",
       "    .dataframe tbody tr th:only-of-type {\n",
       "        vertical-align: middle;\n",
       "    }\n",
       "\n",
       "    .dataframe tbody tr th {\n",
       "        vertical-align: top;\n",
       "    }\n",
       "\n",
       "    .dataframe thead th {\n",
       "        text-align: right;\n",
       "    }\n",
       "</style>\n",
       "<table border=\"1\" class=\"dataframe\">\n",
       "  <thead>\n",
       "    <tr style=\"text-align: right;\">\n",
       "      <th></th>\n",
       "      <th>Spanish_text</th>\n",
       "      <th>English_text</th>\n",
       "    </tr>\n",
       "  </thead>\n",
       "  <tbody>\n",
       "    <tr>\n",
       "      <th>0</th>\n",
       "      <td>Esta tesis quiere profundizar sobre el caso de...</td>\n",
       "      <td>This thesis wants to delve into the case of th...</td>\n",
       "    </tr>\n",
       "    <tr>\n",
       "      <th>1</th>\n",
       "      <td>La violencia en sus diversas variantes está pr...</td>\n",
       "      <td>Violence in its several variations is present ...</td>\n",
       "    </tr>\n",
       "    <tr>\n",
       "      <th>2</th>\n",
       "      <td>Esta tesis doctoral es un ensayo clínico que, ...</td>\n",
       "      <td>This doctoral thesis is a clinical trial that ...</td>\n",
       "    </tr>\n",
       "    <tr>\n",
       "      <th>3</th>\n",
       "      <td>La frustración es un fenómeno que puede mitiga...</td>\n",
       "      <td>Frustration can be mitigated if there has been...</td>\n",
       "    </tr>\n",
       "    <tr>\n",
       "      <th>4</th>\n",
       "      <td>Las políticas lingüísticas europeas promueven ...</td>\n",
       "      <td>European language policies promote the trainin...</td>\n",
       "    </tr>\n",
       "  </tbody>\n",
       "</table>\n",
       "</div>"
      ],
      "text/plain": [
       "                                        Spanish_text  \\\n",
       "0  Esta tesis quiere profundizar sobre el caso de...   \n",
       "1  La violencia en sus diversas variantes está pr...   \n",
       "2  Esta tesis doctoral es un ensayo clínico que, ...   \n",
       "3  La frustración es un fenómeno que puede mitiga...   \n",
       "4  Las políticas lingüísticas europeas promueven ...   \n",
       "\n",
       "                                        English_text  \n",
       "0  This thesis wants to delve into the case of th...  \n",
       "1  Violence in its several variations is present ...  \n",
       "2  This doctoral thesis is a clinical trial that ...  \n",
       "3  Frustration can be mitigated if there has been...  \n",
       "4  European language policies promote the trainin...  "
      ]
     },
     "execution_count": 156,
     "metadata": {},
     "output_type": "execute_result"
    }
   ],
   "source": [
    "en_sp.head()"
   ]
  },
  {
   "cell_type": "code",
   "execution_count": 157,
   "metadata": {},
   "outputs": [
    {
     "data": {
      "text/plain": [
       "'La presente tesis doctoral tiene como objetivos principales examinar los vínculos entre la trata de seres humanos y la corrupción, y analizar críticamente la respuesta del Derecho Penal frente a la participación de funcionarios públicos en la trata. Para ello, se aborda, en primer lugar, la evolución de la normativa internacional en la materia, el concepto de trata de personas y el de corrupción. De este modo, se delimita con claridad qué se entiende, en el plano teórico, por conductas corruptas relacionadas con la trata. Posteriormente, se aporta una descripción criminológica del fenómeno de la corrupción relacionada con la trata en Europa. Esto permite entender mejor quién, cómo y cuándo puede llevar a cabo estas conductas. Partiendo de esta información, se estudia la respuesta penal frente a la corrupción relacionada con la trata en España, a través del análisis dogmático del el artículo 177 bis 5 del Código penal y la jurisprudencia en la materia. Finalmente, con toda la información obtenida, se proponen medidas para mejorar la represión y prevención de estas conductas, destacando la importancia de abandonar la perspectiva meramente criminocéntrica'"
      ]
     },
     "execution_count": 157,
     "metadata": {},
     "output_type": "execute_result"
    }
   ],
   "source": [
    "en_sp['Spanish_text'][30]"
   ]
  },
  {
   "cell_type": "code",
   "execution_count": 158,
   "metadata": {},
   "outputs": [
    {
     "data": {
      "text/plain": [
       "'This doctoral thesis has two main objectives: to examine the links between human trafficking and corruption, and to analyse the Criminal Law response to public officials’ involvement in trafficking. To do so, it first addresses the evolution of international regulations related to this topic, as well as the concepts of human trafficking and corruption. Thus, the concept of trafficking-related corruption is clearly delimited on a theoretical level. Subsequently, this thesis offers a criminological description of human trafficking-related corruption practices in Europe. This allows for a better understanding of how, when and by whom these conducts can be carried out. In the light of this data, the Criminal Law response to trafficking-related corruption in Spain is critically analysed, focussing on the scope of application of article 177 bis 5 of the Spanish Criminal Code and case-law on this topic. Finally, with all the information obtained, some measures to improve the investigation, prosecution and prevention of these behaviours are suggested, highlighting the importance of abandoning a purely crime-centred approach.'"
      ]
     },
     "execution_count": 158,
     "metadata": {},
     "output_type": "execute_result"
    }
   ],
   "source": [
    "en_sp['English_text'][30]"
   ]
  },
  {
   "cell_type": "code",
   "execution_count": 159,
   "metadata": {},
   "outputs": [],
   "source": [
    "en_sp.to_csv('lang_doc.csv', index=False)"
   ]
  },
  {
   "cell_type": "code",
   "execution_count": null,
   "metadata": {},
   "outputs": [],
   "source": []
  }
 ],
 "metadata": {
  "kernelspec": {
   "display_name": "Python 3",
   "language": "python",
   "name": "python3"
  },
  "language_info": {
   "codemirror_mode": {
    "name": "ipython",
    "version": 3
   },
   "file_extension": ".py",
   "mimetype": "text/x-python",
   "name": "python",
   "nbconvert_exporter": "python",
   "pygments_lexer": "ipython3",
   "version": "3.8.5"
  }
 },
 "nbformat": 4,
 "nbformat_minor": 4
}
