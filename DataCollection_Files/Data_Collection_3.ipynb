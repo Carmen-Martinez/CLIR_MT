{
 "cells": [
  {
   "cell_type": "code",
   "execution_count": 1,
   "metadata": {},
   "outputs": [],
   "source": [
    "import numpy as np\n",
    "import pandas as pd\n",
    "import time\n",
    "import re\n",
    "\n",
    "from selenium import webdriver\n",
    "from selenium.webdriver.common.keys import Keys\n",
    "from selenium.webdriver.common.by import By\n",
    "from selenium.webdriver.support.ui import WebDriverWait\n",
    "from selenium.webdriver.support import expected_conditions as EC\n",
    "from selenium.common.exceptions import TimeoutException\n",
    "from selenium.common.exceptions import NoSuchElementException"
   ]
  },
  {
   "cell_type": "markdown",
   "metadata": {},
   "source": [
    "### Extract All The Links"
   ]
  },
  {
   "cell_type": "code",
   "execution_count": 14,
   "metadata": {},
   "outputs": [],
   "source": [
    "PATH = \"C:\\Program Files (x86)\\web_driver\\chromedriver.exe\"\n",
    "driver = webdriver.Chrome(PATH)\n",
    "\n",
    "# start at this page\n",
    "driver.get('https://dialnet.unirioja.es/tesis/fechalectura?inicio=7000')"
   ]
  },
  {
   "cell_type": "code",
   "execution_count": 11,
   "metadata": {},
   "outputs": [
    {
     "name": "stdout",
     "output_type": "stream",
     "text": [
      "Wall time: 24min 4s\n"
     ]
    }
   ],
   "source": [
    "%%time\n",
    "absLinks=[]\n",
    "max_pages = 0\n",
    "while True:\n",
    "    link1 = driver.find_elements_by_css_selector(\"span.titulo\")\n",
    "    for tags in link1:\n",
    "        link2 = tags.find_elements_by_tag_name(\"a\")\n",
    "        for link3 in link2:\n",
    "            absLinks.append(link3.get_attribute(\"href\"))\n",
    "    \n",
    "    # extract links\n",
    "    try:\n",
    "        time.sleep(7)\n",
    "        driver.find_element_by_xpath('//*[@id=\"pieDeListadoDeBusquedaDeAutores\"]/ul/li[4]/a').click() \n",
    "        max_pages += 1\n",
    "        if max_pages == 170:\n",
    "            break\n",
    "    # stop if no more pages available\n",
    "    except NoSuchElementException:\n",
    "        break"
   ]
  },
  {
   "cell_type": "markdown",
   "metadata": {},
   "source": [
    "### Get Contents From Each Link"
   ]
  },
  {
   "cell_type": "code",
   "execution_count": null,
   "metadata": {},
   "outputs": [],
   "source": [
    "data = []\n",
    "for link in absLinks:\n",
    "    time.sleep(5)\n",
    "    driver.get(link)\n",
    "\n",
    "    try:\n",
    "        contents = driver.find_elements_by_xpath('//*[@id=\"resumen\"]')\n",
    "        for content in contents:\n",
    "            language = content.text\n",
    "\n",
    "    except NoSuchElementException:\n",
    "        break\n",
    "\n",
    "    #collect the data\n",
    "    lang= {'content': language}\n",
    "    data.append(lang)"
   ]
  },
  {
   "cell_type": "code",
   "execution_count": 23,
   "metadata": {},
   "outputs": [],
   "source": [
    "en_sp = pd.DataFrame(data)"
   ]
  },
  {
   "cell_type": "code",
   "execution_count": 24,
   "metadata": {},
   "outputs": [
    {
     "data": {
      "text/plain": [
       "188"
      ]
     },
     "execution_count": 24,
     "metadata": {},
     "output_type": "execute_result"
    }
   ],
   "source": [
    "len(en_sp)"
   ]
  },
  {
   "cell_type": "markdown",
   "metadata": {},
   "source": [
    "### Data Cleaning"
   ]
  },
  {
   "cell_type": "code",
   "execution_count": 25,
   "metadata": {},
   "outputs": [],
   "source": [
    "# remove \\n \n",
    "en_sp['content'] = en_sp['content'].apply(lambda x: re.sub(r'\\n', '', x))\n",
    "\n",
    "# return only rows with 'Espanol' in the text (because it contains english translate too)\n",
    "en_sp['Spanish'] = en_sp['content'].apply(lambda x: x if 'Español' in x else 0)\n",
    "\n",
    "# remove rows with 0\n",
    "en_sp = en_sp[en_sp['Spanish'] != 0]\n",
    "\n",
    "# create two new variables: Spanish_text, English_text to separate the translations\n",
    "en_sp['Spanish_text'] = en_sp['Spanish'].apply(lambda x: x.split('English')[0])\n",
    "en_sp['English_text'] = en_sp['Spanish'].apply(lambda x: x.split('English')[-1])\n",
    "\n",
    "# remove 'Galego' translation in the English_text variable\n",
    "en_sp['English_text'] = en_sp['English_text'].apply(lambda x: x.split('Galego')[0] if 'Galego' in x else x)\n",
    "\n",
    "en_sp['Spanish_text'] = en_sp['Spanish_text'].apply(lambda x: x.split('Español')[-1])\n",
    "\n",
    "# remove any text that contains 'Español' in the English_text\n",
    "en_sp['English_text'] = en_sp['English_text'].apply(lambda x: 0 if 'Español' in x else x)\n",
    "\n",
    "# remove rows with 0\n",
    "en_sp = en_sp[en_sp['English_text'] != 0]\n"
   ]
  },
  {
   "cell_type": "code",
   "execution_count": 26,
   "metadata": {},
   "outputs": [
    {
     "data": {
      "text/plain": [
       "44"
      ]
     },
     "execution_count": 26,
     "metadata": {},
     "output_type": "execute_result"
    }
   ],
   "source": [
    "# make sure Spanish_text and English_text do not have the same value\n",
    "en_sp = en_sp[en_sp['Spanish_text'] != en_sp['English_text']]\n",
    "len(en_sp)"
   ]
  },
  {
   "cell_type": "code",
   "execution_count": 27,
   "metadata": {},
   "outputs": [],
   "source": [
    "# format dataframe\n",
    "en_sp.reset_index(inplace=True)\n",
    "en_sp.drop(['index', 'content', 'Spanish'], axis=1, inplace=True)"
   ]
  },
  {
   "cell_type": "code",
   "execution_count": 28,
   "metadata": {},
   "outputs": [],
   "source": [
    "en_sp = en_sp[:30]"
   ]
  },
  {
   "cell_type": "code",
   "execution_count": 33,
   "metadata": {},
   "outputs": [
    {
     "data": {
      "text/plain": [
       "'La técnica más comúnmente empleada en el estudio del cerebro es el uso de modelos animales ex vivo de ratón pero estos modelos no suelen predecir con precisión las reacciones de los medicamentos para tratar a los pacientes humanos. Como solución, se propone el desarrollo de un modelo neuronal in vitro de origen humano que simule la fisiología y funcionalidad del tejido cerebral humano necesario para obtener resultados preclínicos más representativos. Sin embargo, los modelos in vitro existentes están limitados por una reproducibilidad estocástica entre lotes experimentales.Por tanto, el principal desafío de esta investigación se basa en el desarrollo y caracterización de una prueba de concepto para un modelo neuronal in vitro con una reproducibilidad de diferenciación celular mejorada. Para ello, se fabricaron y caracterizaron nuevas membranas planas poliméricas de poli(ε-caprolactona) (PCL) funcionalizadas con nanomateriales basados en grafeno, en particular oxido de grafeno (GO) y oxido de grafeno reducido (rGO), con una elevada porosidad para actuar como soportes celulares dentro de biorreactores de perfusión.Los resultados demostraron que la incorporación de los nanomateriales de rGO en la matriz polimérica aportaba unas propiedades significativamente mejoradas para la modulación de la diferenciación neuronal por lo que las membranas de PCL/rGO se consideran unos materiales prometedores para desarrollar modelos neuronales in vitro reproducibles.'"
      ]
     },
     "execution_count": 33,
     "metadata": {},
     "output_type": "execute_result"
    }
   ],
   "source": [
    "en_sp['Spanish_text'][12]"
   ]
  },
  {
   "cell_type": "code",
   "execution_count": 34,
   "metadata": {},
   "outputs": [
    {
     "data": {
      "text/plain": [
       "'The most commonly employed technique for studying the brain is the use of mouse ex vivo animal models. However, animal models usually fail to accurately predict drug reactions for treating human patients. As a solution, researchers propose the development of an in vitro neural model of human origin with the target of mimicking the physiology and functionality of human brain tissues, as a way to obtain more representative results. Nevertheless, the existing in vitro models are limited by the high stochastic reproducibility from experimental batches.Therefore, the main challenge of this research is based on the development and characterization of the proof of concept for an in vitro neural model with improved reproducible differentiation. To do this, polymeric poly(ε-caprolactone) (PCL) membranes functionalized with graphene based nanomaterials (graphene oxide (GO) and reduced graphene oxide (rGO)) with high porosity were fabricated and characterized to act as cell support in perfusion bioreactors.The results demonstrated that the incorporation of rGO nanomaterials in the polymeric matrix offered significant improved properties to modulate the neural differentiation. Therefore, PCL/rGO membranes were considered promising materials to develop reproducible in vitro neural models.'"
      ]
     },
     "execution_count": 34,
     "metadata": {},
     "output_type": "execute_result"
    }
   ],
   "source": [
    "en_sp['English_text'][12]"
   ]
  },
  {
   "cell_type": "code",
   "execution_count": 35,
   "metadata": {},
   "outputs": [],
   "source": [
    "en_sp.to_csv('lang_doc3.csv', index=False)"
   ]
  },
  {
   "cell_type": "code",
   "execution_count": null,
   "metadata": {},
   "outputs": [],
   "source": []
  }
 ],
 "metadata": {
  "kernelspec": {
   "display_name": "Python 3",
   "language": "python",
   "name": "python3"
  },
  "language_info": {
   "codemirror_mode": {
    "name": "ipython",
    "version": 3
   },
   "file_extension": ".py",
   "mimetype": "text/x-python",
   "name": "python",
   "nbconvert_exporter": "python",
   "pygments_lexer": "ipython3",
   "version": "3.8.5"
  }
 },
 "nbformat": 4,
 "nbformat_minor": 4
}
