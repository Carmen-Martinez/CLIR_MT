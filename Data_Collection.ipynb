{
 "cells": [
  {
   "cell_type": "code",
   "execution_count": 10,
   "metadata": {},
   "outputs": [],
   "source": [
    "import numpy as np\n",
    "import pandas as pd\n",
    "import requests\n",
    "from bs4 import BeautifulSoup\n",
    "import feedparser\n",
    "import yaml\n",
    "import re\n",
    "\n",
    "from selenium import webdriver\n",
    "from selenium.webdriver.common.keys import Keys\n",
    "from selenium.webdriver.common.by import By\n",
    "from selenium.webdriver.support.ui import WebDriverWait\n",
    "from selenium.webdriver.support import expected_conditions as EC\n",
    "from selenium.common.exceptions import TimeoutException\n",
    "from selenium.common.exceptions import NoSuchElementException\n",
    "\n",
    "import time\n",
    "import pandas as pd"
   ]
  },
  {
   "cell_type": "markdown",
   "metadata": {},
   "source": [
    "### Extract All The Links"
   ]
  },
  {
   "cell_type": "code",
   "execution_count": 11,
   "metadata": {},
   "outputs": [],
   "source": [
    "PATH = \"C:\\Program Files (x86)\\web_driver\\chromedriver.exe\"\n",
    "driver = webdriver.Chrome(PATH)\n",
    "\n",
    "driver.get('https://dialnet.unirioja.es/tesis/fechalectura')"
   ]
  },
  {
   "cell_type": "code",
   "execution_count": 13,
   "metadata": {},
   "outputs": [
    {
     "name": "stdout",
     "output_type": "stream",
     "text": [
      "Wall time: 1min 25s\n"
     ]
    }
   ],
   "source": [
    "%%time\n",
    "absLinks=[]\n",
    "max_pages = 0\n",
    "while True:\n",
    "    food1 = driver.find_elements_by_css_selector(\"span.titulo\")\n",
    "    for tags in food1:\n",
    "        food2 = tags.find_elements_by_tag_name(\"a\")\n",
    "        for link in food2:\n",
    "            absLinks.append(link.get_attribute(\"href\"))\n",
    "    \n",
    "    # extract links\n",
    "    try:\n",
    "        time.sleep(7)\n",
    "        driver.find_element_by_xpath('//*[@id=\"pieDeListadoDeBusquedaDeAutores\"]/ul/li[4]/a').click() \n",
    "        max_pages += 1\n",
    "        if max_pages == 10:\n",
    "            break\n",
    "    # stop if no more pages available\n",
    "    except NoSuchElementException:\n",
    "        break\n"
   ]
  },
  {
   "cell_type": "code",
   "execution_count": 14,
   "metadata": {},
   "outputs": [
    {
     "ename": "KeyboardInterrupt",
     "evalue": "",
     "output_type": "error",
     "traceback": [
      "\u001b[1;31m---------------------------------------------------------------------------\u001b[0m",
      "\u001b[1;31mKeyboardInterrupt\u001b[0m                         Traceback (most recent call last)",
      "\u001b[1;32m<timed exec>\u001b[0m in \u001b[0;36m<module>\u001b[1;34m\u001b[0m\n",
      "\u001b[1;31mKeyboardInterrupt\u001b[0m: "
     ]
    }
   ],
   "source": [
    "%%time\n",
    "from tqdm import tqdm\n",
    "data = []\n",
    "# this for loop goes through only 5 out of 708 links\n",
    "for i in absLinks:\n",
    "    time.sleep(5)\n",
    "    driver.get(i)\n",
    "    # may have to use xpath instead\n",
    "    try:\n",
    "        contents = driver.find_elements_by_xpath('//*[@id=\"resumen\"]')\n",
    "        for content in contents:\n",
    "            language = content.text\n",
    "        \n",
    "    except NoSuchElementException:\n",
    "        break\n",
    "        \n",
    "\n",
    "    #collect the data\n",
    "    lang= {'content': language}\n",
    "    data.append(lang)"
   ]
  },
  {
   "cell_type": "code",
   "execution_count": 211,
   "metadata": {},
   "outputs": [],
   "source": [
    "en_sp = pd.DataFrame(data)"
   ]
  },
  {
   "cell_type": "code",
   "execution_count": 212,
   "metadata": {},
   "outputs": [],
   "source": [
    "en_sp = en_sp[:174]"
   ]
  },
  {
   "cell_type": "code",
   "execution_count": 213,
   "metadata": {},
   "outputs": [],
   "source": [
    "# spanish variable\n",
    "en_sp['content'] = en_sp['content'].apply(lambda x: re.sub(r'\\n', '', x))\n",
    "# only Spanish translations: null (0, nan)"
   ]
  },
  {
   "cell_type": "code",
   "execution_count": 214,
   "metadata": {},
   "outputs": [],
   "source": [
    "en_sp['Spanish'] = en_sp['content'].apply(lambda x: x if 'Español' in x else 0)"
   ]
  },
  {
   "cell_type": "code",
   "execution_count": 215,
   "metadata": {},
   "outputs": [],
   "source": [
    "en_sp = en_sp[en_sp['Spanish'] != 0]"
   ]
  },
  {
   "cell_type": "code",
   "execution_count": 216,
   "metadata": {},
   "outputs": [],
   "source": [
    "en_sp['Spanish_text'] = en_sp['Spanish'].apply(lambda x: x.split('English')[0])\n",
    "en_sp['English_text'] = en_sp['Spanish'].apply(lambda x: x.split('English')[-1])\n",
    "en_sp['English_text'] = en_sp['English_text'].apply(lambda x: x.split('Galego')[0] if 'Galego' in x else x)"
   ]
  },
  {
   "cell_type": "code",
   "execution_count": 217,
   "metadata": {},
   "outputs": [],
   "source": [
    "en_sp.reset_index(inplace=True)"
   ]
  },
  {
   "cell_type": "code",
   "execution_count": 218,
   "metadata": {},
   "outputs": [
    {
     "data": {
      "text/html": [
       "<div>\n",
       "<style scoped>\n",
       "    .dataframe tbody tr th:only-of-type {\n",
       "        vertical-align: middle;\n",
       "    }\n",
       "\n",
       "    .dataframe tbody tr th {\n",
       "        vertical-align: top;\n",
       "    }\n",
       "\n",
       "    .dataframe thead th {\n",
       "        text-align: right;\n",
       "    }\n",
       "</style>\n",
       "<table border=\"1\" class=\"dataframe\">\n",
       "  <thead>\n",
       "    <tr style=\"text-align: right;\">\n",
       "      <th></th>\n",
       "      <th>index</th>\n",
       "      <th>content</th>\n",
       "      <th>Spanish</th>\n",
       "      <th>Spanish_text</th>\n",
       "      <th>English_text</th>\n",
       "    </tr>\n",
       "  </thead>\n",
       "  <tbody>\n",
       "    <tr>\n",
       "      <th>0</th>\n",
       "      <td>1</td>\n",
       "      <td>EspañolEsta tesis quiere profundizar sobre el ...</td>\n",
       "      <td>EspañolEsta tesis quiere profundizar sobre el ...</td>\n",
       "      <td>EspañolEsta tesis quiere profundizar sobre el ...</td>\n",
       "      <td>This thesis wants to delve into the case of th...</td>\n",
       "    </tr>\n",
       "    <tr>\n",
       "      <th>1</th>\n",
       "      <td>2</td>\n",
       "      <td>EspañolLa violencia en sus diversas variantes ...</td>\n",
       "      <td>EspañolLa violencia en sus diversas variantes ...</td>\n",
       "      <td>EspañolLa violencia en sus diversas variantes ...</td>\n",
       "      <td>Violence in its several variations is present ...</td>\n",
       "    </tr>\n",
       "    <tr>\n",
       "      <th>2</th>\n",
       "      <td>3</td>\n",
       "      <td>EspañolEsta tesis doctoral es un ensayo clínic...</td>\n",
       "      <td>EspañolEsta tesis doctoral es un ensayo clínic...</td>\n",
       "      <td>EspañolEsta tesis doctoral es un ensayo clínic...</td>\n",
       "      <td>This doctoral thesis is a clinical trial that ...</td>\n",
       "    </tr>\n",
       "    <tr>\n",
       "      <th>3</th>\n",
       "      <td>4</td>\n",
       "      <td>EspañolLa frustración es un fenómeno que puede...</td>\n",
       "      <td>EspañolLa frustración es un fenómeno que puede...</td>\n",
       "      <td>EspañolLa frustración es un fenómeno que puede...</td>\n",
       "      <td>Frustration can be mitigated if there has been...</td>\n",
       "    </tr>\n",
       "    <tr>\n",
       "      <th>4</th>\n",
       "      <td>5</td>\n",
       "      <td>EspañolLas políticas lingüísticas europeas pro...</td>\n",
       "      <td>EspañolLas políticas lingüísticas europeas pro...</td>\n",
       "      <td>EspañolLas políticas lingüísticas europeas pro...</td>\n",
       "      <td>European language policies promote the trainin...</td>\n",
       "    </tr>\n",
       "    <tr>\n",
       "      <th>5</th>\n",
       "      <td>6</td>\n",
       "      <td>EspañolLos pabellones de conveniencia han teni...</td>\n",
       "      <td>EspañolLos pabellones de conveniencia han teni...</td>\n",
       "      <td>EspañolLos pabellones de conveniencia han teni...</td>\n",
       "      <td>Flags of convenience have had a deep impact on...</td>\n",
       "    </tr>\n",
       "    <tr>\n",
       "      <th>6</th>\n",
       "      <td>7</td>\n",
       "      <td>EspañolRESUMEN La presente tesis doctoral pret...</td>\n",
       "      <td>EspañolRESUMEN La presente tesis doctoral pret...</td>\n",
       "      <td>EspañolRESUMEN La presente tesis doctoral pret...</td>\n",
       "      <td>ABSTRACT This PhD thesis aims to advance the k...</td>\n",
       "    </tr>\n",
       "    <tr>\n",
       "      <th>7</th>\n",
       "      <td>9</td>\n",
       "      <td>EspañolEn la actualidad, la energía es el prin...</td>\n",
       "      <td>EspañolEn la actualidad, la energía es el prin...</td>\n",
       "      <td>EspañolEn la actualidad, la energía es el prin...</td>\n",
       "      <td>Nowadays, energy is the main backbone of human...</td>\n",
       "    </tr>\n",
       "    <tr>\n",
       "      <th>8</th>\n",
       "      <td>21</td>\n",
       "      <td>El español se habla en más de una veintena de ...</td>\n",
       "      <td>El español se habla en más de una veintena de ...</td>\n",
       "      <td>El español se habla en más de una veintena de ...</td>\n",
       "      <td>El español se habla en más de una veintena de ...</td>\n",
       "    </tr>\n",
       "    <tr>\n",
       "      <th>9</th>\n",
       "      <td>22</td>\n",
       "      <td>EspañolLos seres humanos y los animales experi...</td>\n",
       "      <td>EspañolLos seres humanos y los animales experi...</td>\n",
       "      <td>EspañolLos seres humanos y los animales experi...</td>\n",
       "      <td>Humans and animals undergo morphological devel...</td>\n",
       "    </tr>\n",
       "  </tbody>\n",
       "</table>\n",
       "</div>"
      ],
      "text/plain": [
       "   index                                            content  \\\n",
       "0      1  EspañolEsta tesis quiere profundizar sobre el ...   \n",
       "1      2  EspañolLa violencia en sus diversas variantes ...   \n",
       "2      3  EspañolEsta tesis doctoral es un ensayo clínic...   \n",
       "3      4  EspañolLa frustración es un fenómeno que puede...   \n",
       "4      5  EspañolLas políticas lingüísticas europeas pro...   \n",
       "5      6  EspañolLos pabellones de conveniencia han teni...   \n",
       "6      7  EspañolRESUMEN La presente tesis doctoral pret...   \n",
       "7      9  EspañolEn la actualidad, la energía es el prin...   \n",
       "8     21  El español se habla en más de una veintena de ...   \n",
       "9     22  EspañolLos seres humanos y los animales experi...   \n",
       "\n",
       "                                             Spanish  \\\n",
       "0  EspañolEsta tesis quiere profundizar sobre el ...   \n",
       "1  EspañolLa violencia en sus diversas variantes ...   \n",
       "2  EspañolEsta tesis doctoral es un ensayo clínic...   \n",
       "3  EspañolLa frustración es un fenómeno que puede...   \n",
       "4  EspañolLas políticas lingüísticas europeas pro...   \n",
       "5  EspañolLos pabellones de conveniencia han teni...   \n",
       "6  EspañolRESUMEN La presente tesis doctoral pret...   \n",
       "7  EspañolEn la actualidad, la energía es el prin...   \n",
       "8  El español se habla en más de una veintena de ...   \n",
       "9  EspañolLos seres humanos y los animales experi...   \n",
       "\n",
       "                                        Spanish_text  \\\n",
       "0  EspañolEsta tesis quiere profundizar sobre el ...   \n",
       "1  EspañolLa violencia en sus diversas variantes ...   \n",
       "2  EspañolEsta tesis doctoral es un ensayo clínic...   \n",
       "3  EspañolLa frustración es un fenómeno que puede...   \n",
       "4  EspañolLas políticas lingüísticas europeas pro...   \n",
       "5  EspañolLos pabellones de conveniencia han teni...   \n",
       "6  EspañolRESUMEN La presente tesis doctoral pret...   \n",
       "7  EspañolEn la actualidad, la energía es el prin...   \n",
       "8  El español se habla en más de una veintena de ...   \n",
       "9  EspañolLos seres humanos y los animales experi...   \n",
       "\n",
       "                                        English_text  \n",
       "0  This thesis wants to delve into the case of th...  \n",
       "1  Violence in its several variations is present ...  \n",
       "2  This doctoral thesis is a clinical trial that ...  \n",
       "3  Frustration can be mitigated if there has been...  \n",
       "4  European language policies promote the trainin...  \n",
       "5  Flags of convenience have had a deep impact on...  \n",
       "6  ABSTRACT This PhD thesis aims to advance the k...  \n",
       "7  Nowadays, energy is the main backbone of human...  \n",
       "8  El español se habla en más de una veintena de ...  \n",
       "9  Humans and animals undergo morphological devel...  "
      ]
     },
     "execution_count": 218,
     "metadata": {},
     "output_type": "execute_result"
    }
   ],
   "source": [
    "en_sp.head(10)"
   ]
  },
  {
   "cell_type": "markdown",
   "metadata": {},
   "source": [
    "if spanish_text == English_text drop"
   ]
  },
  {
   "cell_type": "code",
   "execution_count": 219,
   "metadata": {},
   "outputs": [
    {
     "data": {
      "text/plain": [
       "'EspañolLos seres humanos y los animales experimentan un desarrollo morfológico desde la infancia hasta la edad adulta, que tiene lugar en paralelo con el desa rrollo cognitivo. De hecho, se ha demostrado que este proceso facilita el aprendizaje en los humanos. Sin embargo, la mayoría de los trabajos sobre robótica del desarrollo consideran morfologías fijas, abordando sólo el desarrollo del sistema cognitivo de los robots e ignorando la interacción entre el desarrollo cognitivo y el desarrollo morfológico. Además, los pocos casos encontrados en la literatura en que el desarrollo cognitivo y morfológico se abordan conjunta‐ mente en los sistemas robóticos presentan resultados bastante heterogéneos y no concluyentes en cuanto a las causas y los mecanismos que explican la in fluencia del desarrollo morfológico en el aprendizaje. En este trabajo se aborda el problema de la identificación de los rasgos del desarrollo morfológico que influyen en el aprendizaje, así como el cómo y el porqué de esta influencia. Para ello, se ha diseñado un marco experimental simple y controlado basado en morfologías de robots con patas y se ha realizado una extensa serie de experimentos para intentar responder a estas preguntas. Las conclusiones obtenidas de este trabajo experimental han sido validadas mediante la aplicación con éxito en un robot bípedo de una estrategia de desarrollo morfológico diseñada a partir de los conocimientos obtenidos. Esto nos ha permitido plantear un conjunto inicial de principios de diseño que deberían aplicarse para producir procesos de desarrollo morfológico exitosos para problemas particulares.'"
      ]
     },
     "execution_count": 219,
     "metadata": {},
     "output_type": "execute_result"
    }
   ],
   "source": [
    "en_sp['Spanish_text'][9]"
   ]
  },
  {
   "cell_type": "code",
   "execution_count": 220,
   "metadata": {},
   "outputs": [
    {
     "data": {
      "text/plain": [
       "'Humans and animals undergo morphological development from infancy to adulthood, which takes place in parallel with cognitive development. In fact, this process has been shown to facilitate learning in humans. However, most of the works on developmental robotics consider fixed morphologies, addressing only the development of the cognitive system of the robots and ignoring the interaction between cognitive development and morphological development. Moreover, the few cases found in the literature where cognitive and morphological development are jointly addressed in robotic systems present rather heterogeneous and inconclusive results regarding the causes and the mechanisms that explain the influence of morphological development on learning. This work addresses the problem of identifying those features of morphological development that influence learning, as well as how and why this influence comes about. To this end, a simple and controlled experimental framework based on legged robot morphologies has been designed and an extensive series of experiments have been run in order to try to answer these questions. The conclusions obtained from this experimental work have been validated through the successful implementation on a bipedal robot of a morphological development strategy designed using the insights obtained. This has allowed us to posit an initial set of design principles that should be applied in order to produce successful morphological development processes for particular problems.'"
      ]
     },
     "execution_count": 220,
     "metadata": {},
     "output_type": "execute_result"
    }
   ],
   "source": [
    "en_sp['English_text'][9]"
   ]
  },
  {
   "cell_type": "code",
   "execution_count": null,
   "metadata": {},
   "outputs": [],
   "source": []
  }
 ],
 "metadata": {
  "kernelspec": {
   "display_name": "Python 3",
   "language": "python",
   "name": "python3"
  },
  "language_info": {
   "codemirror_mode": {
    "name": "ipython",
    "version": 3
   },
   "file_extension": ".py",
   "mimetype": "text/x-python",
   "name": "python",
   "nbconvert_exporter": "python",
   "pygments_lexer": "ipython3",
   "version": "3.8.5"
  }
 },
 "nbformat": 4,
 "nbformat_minor": 4
}
