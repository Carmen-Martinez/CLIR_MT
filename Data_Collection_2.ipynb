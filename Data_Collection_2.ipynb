{
 "cells": [
  {
   "cell_type": "code",
   "execution_count": 1,
   "metadata": {},
   "outputs": [],
   "source": [
    "import numpy as np\n",
    "import pandas as pd\n",
    "import time\n",
    "import re\n",
    "\n",
    "from selenium import webdriver\n",
    "from selenium.webdriver.common.keys import Keys\n",
    "from selenium.webdriver.common.by import By\n",
    "from selenium.webdriver.support.ui import WebDriverWait\n",
    "from selenium.webdriver.support import expected_conditions as EC\n",
    "from selenium.common.exceptions import TimeoutException\n",
    "from selenium.common.exceptions import NoSuchElementException"
   ]
  },
  {
   "cell_type": "markdown",
   "metadata": {},
   "source": [
    "### Extract All The Links"
   ]
  },
  {
   "cell_type": "code",
   "execution_count": 2,
   "metadata": {},
   "outputs": [],
   "source": [
    "PATH = \"C:\\Program Files (x86)\\web_driver\\chromedriver.exe\"\n",
    "driver = webdriver.Chrome(PATH)\n",
    "\n",
    "# start at this page\n",
    "driver.get('https://dialnet.unirioja.es/tesis/fechalectura?inicio=2020')"
   ]
  },
  {
   "cell_type": "code",
   "execution_count": 4,
   "metadata": {},
   "outputs": [
    {
     "name": "stdout",
     "output_type": "stream",
     "text": [
      "Wall time: 30min 2s\n"
     ]
    }
   ],
   "source": [
    "%%time\n",
    "absLinks=[]\n",
    "max_pages = 0\n",
    "while True:\n",
    "    link1 = driver.find_elements_by_css_selector(\"span.titulo\")\n",
    "    for tags in link1:\n",
    "        link2 = tags.find_elements_by_tag_name(\"a\")\n",
    "        for link3 in link2:\n",
    "            absLinks.append(link3.get_attribute(\"href\"))\n",
    "    \n",
    "    # extract links\n",
    "    try:\n",
    "        time.sleep(7)\n",
    "        driver.find_element_by_xpath('//*[@id=\"pieDeListadoDeBusquedaDeAutores\"]/ul/li[4]/a').click() \n",
    "        max_pages += 1\n",
    "        if max_pages == 200:\n",
    "            break\n",
    "    # stop if no more pages available\n",
    "    except NoSuchElementException:\n",
    "        break"
   ]
  },
  {
   "cell_type": "markdown",
   "metadata": {},
   "source": [
    "### Get Contents From Each Link"
   ]
  },
  {
   "cell_type": "code",
   "execution_count": 5,
   "metadata": {},
   "outputs": [
    {
     "ename": "KeyboardInterrupt",
     "evalue": "",
     "output_type": "error",
     "traceback": [
      "\u001b[1;31m---------------------------------------------------------------------------\u001b[0m",
      "\u001b[1;31mKeyboardInterrupt\u001b[0m                         Traceback (most recent call last)",
      "\u001b[1;32m<ipython-input-5-5ee4e6af2e6c>\u001b[0m in \u001b[0;36m<module>\u001b[1;34m\u001b[0m\n\u001b[0;32m      1\u001b[0m \u001b[0mdata\u001b[0m \u001b[1;33m=\u001b[0m \u001b[1;33m[\u001b[0m\u001b[1;33m]\u001b[0m\u001b[1;33m\u001b[0m\u001b[1;33m\u001b[0m\u001b[0m\n\u001b[0;32m      2\u001b[0m \u001b[1;32mfor\u001b[0m \u001b[0mlink\u001b[0m \u001b[1;32min\u001b[0m \u001b[0mabsLinks\u001b[0m\u001b[1;33m:\u001b[0m\u001b[1;33m\u001b[0m\u001b[1;33m\u001b[0m\u001b[0m\n\u001b[1;32m----> 3\u001b[1;33m     \u001b[0mtime\u001b[0m\u001b[1;33m.\u001b[0m\u001b[0msleep\u001b[0m\u001b[1;33m(\u001b[0m\u001b[1;36m5\u001b[0m\u001b[1;33m)\u001b[0m\u001b[1;33m\u001b[0m\u001b[1;33m\u001b[0m\u001b[0m\n\u001b[0m\u001b[0;32m      4\u001b[0m     \u001b[0mdriver\u001b[0m\u001b[1;33m.\u001b[0m\u001b[0mget\u001b[0m\u001b[1;33m(\u001b[0m\u001b[0mlink\u001b[0m\u001b[1;33m)\u001b[0m\u001b[1;33m\u001b[0m\u001b[1;33m\u001b[0m\u001b[0m\n\u001b[0;32m      5\u001b[0m \u001b[1;33m\u001b[0m\u001b[0m\n",
      "\u001b[1;31mKeyboardInterrupt\u001b[0m: "
     ]
    }
   ],
   "source": [
    "data = []\n",
    "for link in absLinks:\n",
    "    time.sleep(5)\n",
    "    driver.get(link)\n",
    "\n",
    "    try:\n",
    "        contents = driver.find_elements_by_xpath('//*[@id=\"resumen\"]')\n",
    "        for content in contents:\n",
    "            language = content.text\n",
    "\n",
    "    except NoSuchElementException:\n",
    "        break\n",
    "\n",
    "    #collect the data\n",
    "    lang= {'content': language}\n",
    "    data.append(lang)"
   ]
  },
  {
   "cell_type": "code",
   "execution_count": 40,
   "metadata": {},
   "outputs": [],
   "source": [
    "en_sp = pd.DataFrame(data)"
   ]
  },
  {
   "cell_type": "code",
   "execution_count": 41,
   "metadata": {},
   "outputs": [
    {
     "data": {
      "text/plain": [
       "178"
      ]
     },
     "execution_count": 41,
     "metadata": {},
     "output_type": "execute_result"
    }
   ],
   "source": [
    "len(en_sp)"
   ]
  },
  {
   "cell_type": "markdown",
   "metadata": {},
   "source": [
    "### Data Cleaning"
   ]
  },
  {
   "cell_type": "code",
   "execution_count": 42,
   "metadata": {},
   "outputs": [],
   "source": [
    "# remove \\n \n",
    "en_sp['content'] = en_sp['content'].apply(lambda x: re.sub(r'\\n', '', x))\n",
    "\n",
    "# return only rows with 'Espanol' in the text (because it contains english translate too)\n",
    "en_sp['Spanish'] = en_sp['content'].apply(lambda x: x if 'Español' in x else 0)\n",
    "\n",
    "# remove rows with 0\n",
    "en_sp = en_sp[en_sp['Spanish'] != 0]\n",
    "\n",
    "# create two new variables: Spanish_text, English_text to separate the translations\n",
    "en_sp['Spanish_text'] = en_sp['Spanish'].apply(lambda x: x.split('English')[0])\n",
    "en_sp['English_text'] = en_sp['Spanish'].apply(lambda x: x.split('English')[-1])\n",
    "\n",
    "# remove 'Galego' translation in the English_text variable\n",
    "en_sp['English_text'] = en_sp['English_text'].apply(lambda x: x.split('Galego')[0] if 'Galego' in x else x)\n",
    "\n",
    "en_sp['Spanish_text'] = en_sp['Spanish_text'].apply(lambda x: x.split('Español')[-1])\n",
    "\n",
    "# remove any text that contains 'Español' in the English_text\n",
    "en_sp['English_text'] = en_sp['English_text'].apply(lambda x: 0 if 'Español' in x else x)\n",
    "\n",
    "# remove rows with 0\n",
    "en_sp = en_sp[en_sp['English_text'] != 0]\n"
   ]
  },
  {
   "cell_type": "code",
   "execution_count": 43,
   "metadata": {},
   "outputs": [
    {
     "data": {
      "text/plain": [
       "37"
      ]
     },
     "execution_count": 43,
     "metadata": {},
     "output_type": "execute_result"
    }
   ],
   "source": [
    "# make sure Spanish_text and English_text do not have the same value\n",
    "en_sp = en_sp[en_sp['Spanish_text'] != en_sp['English_text']]\n",
    "len(en_sp)"
   ]
  },
  {
   "cell_type": "code",
   "execution_count": 44,
   "metadata": {},
   "outputs": [],
   "source": [
    "# format dataframe\n",
    "en_sp.reset_index(inplace=True)\n",
    "en_sp.drop(['index', 'content', 'Spanish'], axis=1, inplace=True)"
   ]
  },
  {
   "cell_type": "code",
   "execution_count": 45,
   "metadata": {},
   "outputs": [
    {
     "data": {
      "text/html": [
       "<div>\n",
       "<style scoped>\n",
       "    .dataframe tbody tr th:only-of-type {\n",
       "        vertical-align: middle;\n",
       "    }\n",
       "\n",
       "    .dataframe tbody tr th {\n",
       "        vertical-align: top;\n",
       "    }\n",
       "\n",
       "    .dataframe thead th {\n",
       "        text-align: right;\n",
       "    }\n",
       "</style>\n",
       "<table border=\"1\" class=\"dataframe\">\n",
       "  <thead>\n",
       "    <tr style=\"text-align: right;\">\n",
       "      <th></th>\n",
       "      <th>Spanish_text</th>\n",
       "      <th>English_text</th>\n",
       "    </tr>\n",
       "  </thead>\n",
       "  <tbody>\n",
       "    <tr>\n",
       "      <th>0</th>\n",
       "      <td>ANTECEDENTES: La depresión se considera un pro...</td>\n",
       "      <td>BACKGROUND: Depression is considered a global ...</td>\n",
       "    </tr>\n",
       "    <tr>\n",
       "      <th>1</th>\n",
       "      <td>La crisis global que se inició en el 2008 es l...</td>\n",
       "      <td>The global crisis that began in 2008 is the wo...</td>\n",
       "    </tr>\n",
       "    <tr>\n",
       "      <th>2</th>\n",
       "      <td>ANTECEDENTES: La depresión se considera un pro...</td>\n",
       "      <td>BACKGROUND: Depression is considered a global ...</td>\n",
       "    </tr>\n",
       "    <tr>\n",
       "      <th>3</th>\n",
       "      <td>La crisis global que se inició en el 2008 es l...</td>\n",
       "      <td>The global crisis that began in 2008 is the wo...</td>\n",
       "    </tr>\n",
       "    <tr>\n",
       "      <th>4</th>\n",
       "      <td>Muchas y muy diferentes son las propuestas que...</td>\n",
       "      <td>A huge number of proposals have been developed...</td>\n",
       "    </tr>\n",
       "    <tr>\n",
       "      <th>5</th>\n",
       "      <td>En el siguiente artículo se pretende exponer u...</td>\n",
       "      <td>The aim of this article is to provide a panora...</td>\n",
       "    </tr>\n",
       "    <tr>\n",
       "      <th>6</th>\n",
       "      <td>La inspiración de la presente tesis gira entor...</td>\n",
       "      <td>The debate on the emissions control instrument...</td>\n",
       "    </tr>\n",
       "    <tr>\n",
       "      <th>7</th>\n",
       "      <td>Los lesionados medulares con alguna capacidad ...</td>\n",
       "      <td>Spinal-cord-injured (SCI) subjects with some l...</td>\n",
       "    </tr>\n",
       "    <tr>\n",
       "      <th>8</th>\n",
       "      <td>En España, la teoría de la evolución se aborda...</td>\n",
       "      <td>In Spain, the theory of evolution is addressed...</td>\n",
       "    </tr>\n",
       "    <tr>\n",
       "      <th>9</th>\n",
       "      <td>La transición de la mesoescala a la submesoesc...</td>\n",
       "      <td>The transition from mesoscale to submesoscale ...</td>\n",
       "    </tr>\n",
       "    <tr>\n",
       "      <th>10</th>\n",
       "      <td>El envejecimiento de la población mundial hace...</td>\n",
       "      <td>The ageing of the world´s population makes chr...</td>\n",
       "    </tr>\n",
       "    <tr>\n",
       "      <th>11</th>\n",
       "      <td>En esta tesis se desarrolla el estudio de la d...</td>\n",
       "      <td>In this thesis we study the dynamics of vegeta...</td>\n",
       "    </tr>\n",
       "    <tr>\n",
       "      <th>12</th>\n",
       "      <td>Las percepciones del alumnado sobre la credibi...</td>\n",
       "      <td>Students' perceptions of teacher credibility a...</td>\n",
       "    </tr>\n",
       "    <tr>\n",
       "      <th>13</th>\n",
       "      <td>Modificar a voluntad las distintas propiedades...</td>\n",
       "      <td>This thesis is focused on spatial manipulation...</td>\n",
       "    </tr>\n",
       "    <tr>\n",
       "      <th>14</th>\n",
       "      <td>El objetivo de la Tesis Doctoral ha sido inves...</td>\n",
       "      <td>The aim of the Doctoral Thesis has been to ana...</td>\n",
       "    </tr>\n",
       "    <tr>\n",
       "      <th>15</th>\n",
       "      <td>El primer informe global de la Organización Mu...</td>\n",
       "      <td>The first antimicrobial resistance global repo...</td>\n",
       "    </tr>\n",
       "    <tr>\n",
       "      <th>16</th>\n",
       "      <td>Las invasiones biológicas son una de las princ...</td>\n",
       "      <td>Biological invasions are one of the main cause...</td>\n",
       "    </tr>\n",
       "    <tr>\n",
       "      <th>17</th>\n",
       "      <td>En este trabajo de investigación se han analiz...</td>\n",
       "      <td>In this doctoral thesis, I analyze 12 mayor pl...</td>\n",
       "    </tr>\n",
       "    <tr>\n",
       "      <th>18</th>\n",
       "      <td>José Saramago es autor de una prolífica obra l...</td>\n",
       "      <td>José Saramago is the author of a prolific lite...</td>\n",
       "    </tr>\n",
       "    <tr>\n",
       "      <th>19</th>\n",
       "      <td>Soil is one of the main providers of environme...</td>\n",
       "      <td>El suelo es uno de los principales proveedores...</td>\n",
       "    </tr>\n",
       "    <tr>\n",
       "      <th>20</th>\n",
       "      <td>La fabricación de baldosas cerámicas es una ac...</td>\n",
       "      <td>In this work, three environmental challenges h...</td>\n",
       "    </tr>\n",
       "    <tr>\n",
       "      <th>21</th>\n",
       "      <td>En un inicio viajar respondía a las necesidade...</td>\n",
       "      <td>Initially, an analysis was developed in order ...</td>\n",
       "    </tr>\n",
       "    <tr>\n",
       "      <th>22</th>\n",
       "      <td>El presente trabajo constituye un estudio sobr...</td>\n",
       "      <td>The present work constitutes a study on the ge...</td>\n",
       "    </tr>\n",
       "    <tr>\n",
       "      <th>23</th>\n",
       "      <td>Bacillus thuringiensis (Bt) se distingue de ot...</td>\n",
       "      <td>Bacillus thuringiensis (Bt) is distinguished f...</td>\n",
       "    </tr>\n",
       "    <tr>\n",
       "      <th>24</th>\n",
       "      <td>El estudio de optimización de aquellas condici...</td>\n",
       "      <td>The optimization study of initial conditions o...</td>\n",
       "    </tr>\n",
       "    <tr>\n",
       "      <th>25</th>\n",
       "      <td>Motivada por el aumento exponencial de los est...</td>\n",
       "      <td>Motivated by the exponential increase of Chine...</td>\n",
       "    </tr>\n",
       "    <tr>\n",
       "      <th>26</th>\n",
       "      <td>Estudio epidemiológico sobre la dermatitis de ...</td>\n",
       "      <td>The aim of this paper is to study if wet work ...</td>\n",
       "    </tr>\n",
       "    <tr>\n",
       "      <th>27</th>\n",
       "      <td>La formación durante el desarrollo cardíaco de...</td>\n",
       "      <td>The compaction or formation of a thick and smo...</td>\n",
       "    </tr>\n",
       "    <tr>\n",
       "      <th>28</th>\n",
       "      <td>El reemplazo articular es un procedimiento que...</td>\n",
       "      <td>Joint replacement is a procedure that improves...</td>\n",
       "    </tr>\n",
       "    <tr>\n",
       "      <th>29</th>\n",
       "      <td>Esta Tesis aborda uno de los problemas textual...</td>\n",
       "      <td>This thesis deals with one of the most fascina...</td>\n",
       "    </tr>\n",
       "    <tr>\n",
       "      <th>30</th>\n",
       "      <td>El reciente aumento de la cantidad de datos di...</td>\n",
       "      <td>The recent surge in data available has spawned...</td>\n",
       "    </tr>\n",
       "    <tr>\n",
       "      <th>31</th>\n",
       "      <td>En el ámbito mundial se reconoce que el motor ...</td>\n",
       "      <td>At the global level, it is recognized that the...</td>\n",
       "    </tr>\n",
       "    <tr>\n",
       "      <th>32</th>\n",
       "      <td>En el ámbito mundial se reconoce que el motor ...</td>\n",
       "      <td>At the global level, it is recognized that the...</td>\n",
       "    </tr>\n",
       "    <tr>\n",
       "      <th>33</th>\n",
       "      <td>La finalidad de la investigación fue formular ...</td>\n",
       "      <td>The purpose of the investigation was to formul...</td>\n",
       "    </tr>\n",
       "    <tr>\n",
       "      <th>34</th>\n",
       "      <td>Desde los gobiernos se promueve el uso de recu...</td>\n",
       "      <td>The use of renewable resources for electricity...</td>\n",
       "    </tr>\n",
       "    <tr>\n",
       "      <th>35</th>\n",
       "      <td>El principal objetivo de la presente tesis doc...</td>\n",
       "      <td>The main aim of this dissertation is to improv...</td>\n",
       "    </tr>\n",
       "    <tr>\n",
       "      <th>36</th>\n",
       "      <td>Investigación de campo con 174 sujetos español...</td>\n",
       "      <td>Field research with 174 Spanish and Colombian ...</td>\n",
       "    </tr>\n",
       "  </tbody>\n",
       "</table>\n",
       "</div>"
      ],
      "text/plain": [
       "                                         Spanish_text  \\\n",
       "0   ANTECEDENTES: La depresión se considera un pro...   \n",
       "1   La crisis global que se inició en el 2008 es l...   \n",
       "2   ANTECEDENTES: La depresión se considera un pro...   \n",
       "3   La crisis global que se inició en el 2008 es l...   \n",
       "4   Muchas y muy diferentes son las propuestas que...   \n",
       "5   En el siguiente artículo se pretende exponer u...   \n",
       "6   La inspiración de la presente tesis gira entor...   \n",
       "7   Los lesionados medulares con alguna capacidad ...   \n",
       "8   En España, la teoría de la evolución se aborda...   \n",
       "9   La transición de la mesoescala a la submesoesc...   \n",
       "10  El envejecimiento de la población mundial hace...   \n",
       "11  En esta tesis se desarrolla el estudio de la d...   \n",
       "12  Las percepciones del alumnado sobre la credibi...   \n",
       "13  Modificar a voluntad las distintas propiedades...   \n",
       "14  El objetivo de la Tesis Doctoral ha sido inves...   \n",
       "15  El primer informe global de la Organización Mu...   \n",
       "16  Las invasiones biológicas son una de las princ...   \n",
       "17  En este trabajo de investigación se han analiz...   \n",
       "18  José Saramago es autor de una prolífica obra l...   \n",
       "19  Soil is one of the main providers of environme...   \n",
       "20  La fabricación de baldosas cerámicas es una ac...   \n",
       "21  En un inicio viajar respondía a las necesidade...   \n",
       "22  El presente trabajo constituye un estudio sobr...   \n",
       "23  Bacillus thuringiensis (Bt) se distingue de ot...   \n",
       "24  El estudio de optimización de aquellas condici...   \n",
       "25  Motivada por el aumento exponencial de los est...   \n",
       "26  Estudio epidemiológico sobre la dermatitis de ...   \n",
       "27  La formación durante el desarrollo cardíaco de...   \n",
       "28  El reemplazo articular es un procedimiento que...   \n",
       "29  Esta Tesis aborda uno de los problemas textual...   \n",
       "30  El reciente aumento de la cantidad de datos di...   \n",
       "31  En el ámbito mundial se reconoce que el motor ...   \n",
       "32  En el ámbito mundial se reconoce que el motor ...   \n",
       "33  La finalidad de la investigación fue formular ...   \n",
       "34  Desde los gobiernos se promueve el uso de recu...   \n",
       "35  El principal objetivo de la presente tesis doc...   \n",
       "36  Investigación de campo con 174 sujetos español...   \n",
       "\n",
       "                                         English_text  \n",
       "0   BACKGROUND: Depression is considered a global ...  \n",
       "1   The global crisis that began in 2008 is the wo...  \n",
       "2   BACKGROUND: Depression is considered a global ...  \n",
       "3   The global crisis that began in 2008 is the wo...  \n",
       "4   A huge number of proposals have been developed...  \n",
       "5   The aim of this article is to provide a panora...  \n",
       "6   The debate on the emissions control instrument...  \n",
       "7   Spinal-cord-injured (SCI) subjects with some l...  \n",
       "8   In Spain, the theory of evolution is addressed...  \n",
       "9   The transition from mesoscale to submesoscale ...  \n",
       "10  The ageing of the world´s population makes chr...  \n",
       "11  In this thesis we study the dynamics of vegeta...  \n",
       "12  Students' perceptions of teacher credibility a...  \n",
       "13  This thesis is focused on spatial manipulation...  \n",
       "14  The aim of the Doctoral Thesis has been to ana...  \n",
       "15  The first antimicrobial resistance global repo...  \n",
       "16  Biological invasions are one of the main cause...  \n",
       "17  In this doctoral thesis, I analyze 12 mayor pl...  \n",
       "18  José Saramago is the author of a prolific lite...  \n",
       "19  El suelo es uno de los principales proveedores...  \n",
       "20  In this work, three environmental challenges h...  \n",
       "21  Initially, an analysis was developed in order ...  \n",
       "22  The present work constitutes a study on the ge...  \n",
       "23  Bacillus thuringiensis (Bt) is distinguished f...  \n",
       "24  The optimization study of initial conditions o...  \n",
       "25  Motivated by the exponential increase of Chine...  \n",
       "26  The aim of this paper is to study if wet work ...  \n",
       "27  The compaction or formation of a thick and smo...  \n",
       "28  Joint replacement is a procedure that improves...  \n",
       "29  This thesis deals with one of the most fascina...  \n",
       "30  The recent surge in data available has spawned...  \n",
       "31  At the global level, it is recognized that the...  \n",
       "32  At the global level, it is recognized that the...  \n",
       "33  The purpose of the investigation was to formul...  \n",
       "34  The use of renewable resources for electricity...  \n",
       "35  The main aim of this dissertation is to improv...  \n",
       "36  Field research with 174 Spanish and Colombian ...  "
      ]
     },
     "execution_count": 45,
     "metadata": {},
     "output_type": "execute_result"
    }
   ],
   "source": [
    "en_sp"
   ]
  },
  {
   "cell_type": "code",
   "execution_count": 12,
   "metadata": {},
   "outputs": [
    {
     "data": {
      "text/plain": [
       "'El reemplazo articular es un procedimiento que mejora la vida de millones de personas al año, proporcionando alivio del dolor, restableciendo la función articular y aportando independencia. En los próximos veinte años se espera que el número de artroplastias aumente en más de un 150%, lo que traerá consigo un aumento de las complicaciones asociadas, como el aflojamiento, lesiones vasculares, inestabilidad, mala cicatrización de la herida quirúrgica, o infecciones.Las infecciones de prótesis articulares, aunque infrecuentes, suponen una condición devastadora para el paciente y un alto coste para el sistema sanitario. La mayoría están causadas por bacterias y un 1-2% están causadas por hongos, entre los que destacan algunas especies del género Candida. Actualmente, existe gran cantidad de literatura relacionada con las primeras, con guías terapéuticas disponibles para el manejo y tratamiento de los pacientes. En cambio, debido a la baja frecuencia, las distintas características clínicas de los pacientes y la gran variabilidad con que se manifiestan las infecciones protésicas causadas por hongos actualmente no hay guías terapéuticas estandarizadas para estas infecciones, y en muchos casos el tratamiento depende de la experiencia de cada centro. Estas infecciones se caracterizan por el desarrollo de una biopelícula fúngica sobre la superficie del implante, la cual protege al hongo de los tratamientos y la reacción del sistema inmune. Además, contribuye a dañar el tejido periprotésico y puede ocasionar una infección sistémica. Las biopelículas producidas por hongos son especialmente resistentes y resilientes al tratamiento, lo que ocasiona con frecuencia reinfecciones y fallos terapéuticos, por lo que suele ser necesaria una terapia prolongada con antifúngicos y sucesivas intervenciones para desinfectar la zona y efectuar un recambio del implante.Para lidiar con el desafío que presentan estas infecciones se han abordado tres estrategias complementarias en la literatura. La primera se enfoca en promover la osteointegración del material, lo que minimiza la posibilidad de desarrollar una infección. La segunda se basa en la modificación de la superficie del biomaterial para reducir la adherencia de microrganismos, el paso previo al desarrollo de una biopelícula. La tercera está enfocada al desarrollo de sistemas eficientes de liberación de antifúngicos que permitan prevenir y tratar localmente estas infecciones.El objetivo principal de esta tesis es la evaluación in vitro de un recubrimiento híbrido organo-inorgánico de tipo sol-gel, biofuncionalizado con organofosfito y cargado con fluconazol o anidulafungina para prevenir y tratar infecciones protésicas causadas por Candida albicans y Candida parapsilosis, las especies de hongo aisladas con mayor frecuencia. La consecución de este objetivo pasa por dos fases: la caracterización previa de las cepas y la evaluación del recubrimiento. En la primera fase se incluye además la caracterización de varias cepas del hongo Candida auris, debido a que en los primeros meses de esta tesis se tuvo acceso a ellas, y se comparan los resultados con los obtenidos en las otras dos especies. La importancia clínica de C. auris no ha dejado de crecer desde que se descubrió en 2009 debido a su gran capacidad de colonización y transmisión inter e intrahospitalaria y las múltiples resistencias a antifúngicos que presentan los aislados clínicos. Estas características han posicionado al patógeno como uno de los agentes etiológicos de mayor importancia en infección sistémica de origen nosocomial causada por hongos en la actualidad.En todas las cepas se caracterizó la capacidad de formación de biopelículas mediante microscopía confocal y espectroscopía de fluorescencia. Además, en las cepas de C. auris se caracterizó su patogenicidad usando un modelo in vivo de infección en Galleria mellonella, se evaluó su susceptibilidad a antifúngicos en estado planctónico y sésil y se estudió el efecto del tratamiento con antifúngicos de las biopelículas mediante microscopía confocal.En la segunda fase, se evaluó la adherencia de las cepas de C. albicans y C. parapsilosis a los recubrimientos sin adición de antifúngico, y se comparan con los recubrimientos cargados con antifúngicos. Se estudió la capacidad de prevención de la formación de biopelículas y su uso como tratamiento de biopelículas maduras de ambas especies. Finalmente, se realizó un estudio de citotoxicidad en células de mamífero.Los resultados obtenidos en todos los experimentos revelaron el distinto comportamiento de las cepas clínicas respecto a las cepas de referencia en las tres especies: produjeron biopelículas más abundantes, fueron más patogénicas y presentaron distintos patrones de susceptibilidad.Los resultados de caracterización indicaron que todas las cepas estudiadas tuvieron la capacidad de formar una biopelícula madura, variando las características de éstas en función de la especie estudiada y las condiciones de crecimiento. Por ejemplo, C. albicans produjo las biopelículas más abundantes y complejas, compuestas de levaduras y elementos filamentosos embebidos en abundante matriz extracelular, mientras que C. auris produjo las biopelículas menos abundantes, compuestas principalmente por densos grupos de levaduras.Los resultados del modelo in vivo en G. mellonella indicaron que las cepas de C. albicans fueron más patogénicas que las de C. auris, y que el fenotipo de las cepas de C. auris produjo una respuesta diferencial en el modelo.Los estudios de sensibilidad a antifúngicos revelaron que las cepas de C. auris presentaron una mayor tolerancia a los antifúngicos en comparación con las cepas de C. albicans y C. parapsilosis. Además, las biopelículas producidas por las tres especies fueron mucho más resistentes que las levaduras en estado planctónico, y las producidas por los aislados clínicos de C. auris fueron resistentes a todos los antifúngicos estudiados.Finalmente, el tratamiento con antifúngicos de las biopelículas de C. auris redujo significativamente su viabilidad y su superficie cubierta, siendo la anidulafungina el antifúngico más efectivo.La caracterización de los recubrimientos sin carga de antifúngico indicó que éstos disminuyeron la adherencia de C. albicans, pero aumentaron hasta en 65 veces la de C. parapsilosis. Los recubrimientos cargados con anidulafungina fueron más eficaces previniendo la formación de biopelículas de C. albicans, y los cargados con fluconazol lo fueron en la prevención de la formación de biopelículas de C. parapsilosis. Los experimentos de tratamiento con los recubrimientos demostraron que la presencia del recubrimiento sin antifúngicos fue suficiente para reducir las biopelículas formadas por C. albicans, y la carga con fluconazol o anidulafungina aumentó ligeramente este efecto. En las cepas de C. parapsilosis, la presencia del recubrimiento estimuló la formación de biopelículas, y la carga con fluconazol las redujo hasta en un 99%. Por último, no se observaron eventos de citotoxicidad debidos a la presencia de antifúngicos en sol-gel.Un biomaterial exitoso con aplicaciones reales en medicina abordaría estas características: ser no citotóxico y mínimamente invasivo, promover la osteointegración y prevenir y/o combatir eficazmente las infecciones microbianas. En esta tesis se ha caracterizado un novedoso recubrimiento híbrido organo-inorgánico de tipo sol-gel que puede fabricarse fácilmente y aplicarse directamente a la superficie del implante. El sol-gel se biodegrada en las primeras 24-48 horas posteriores a la intervención, el período crítico para el desarrollo de una infección. Esta biodegradación permite la liberación de compuestos de fósforo y antifúngicos en la zona, promoviendo la osteointegración y evitando la formación de biopelículas fúngicas, presentando este recubrimiento como una herramienta prometedora para reducir la incidencia de infecciones protésicas causadas por hongos.'"
      ]
     },
     "execution_count": 12,
     "metadata": {},
     "output_type": "execute_result"
    }
   ],
   "source": [
    "en_sp['Spanish_text'][30]"
   ]
  },
  {
   "cell_type": "code",
   "execution_count": 13,
   "metadata": {},
   "outputs": [
    {
     "data": {
      "text/plain": [
       "'Joint replacement is a procedure that improves the life of millions of people every year, providing pain relief, independence and restoring joint function. It is expected that the number of arthroplasties will increase by more than 150% in the next twenty years, which consequently will lead to an increase in the associated complications, such as loosening, vascular injuries, instability, poor surgical wound healing or infections.Prosthetic joint infections, despite being infrequent, represent a devastating condition for the patient and entail elevated costs for the healthcare system. The majority of these infections are caused by bacteria and 1-2% are caused by fungi, being Candida species the most frequently isolated.There currently exist large amounts of literature describing bacterial prosthetic joint infections and therapeutic guidelines are available for patient management and treatment. In contrast, standardized therapeutic guidelines are not available for fungal prosthetic joint infections mainly due to their low frequency, the different clinical characteristics of the patients and the high variability of presentation, and the treatment often depends on the experience of each center. These infections are characterized by the development of a fungal biofilm on the implant surface that protects the fungus from the treatment and the immune system reaction, damages the periprosthetic tissue and can cause a systemic infection. Fungal biofilms are especially resistant and resilient to treatment, which often leads to reinfections and therapeutic failure, so prolonged antifungal therapy and repeated interventions are often necessary to disinfect the area and perform a joint replacement.To deal with the challenge of these infections, three complementary strategies have been addressed in the literature. The first focuses on promoting osseointegration of the implant, which minimizes the possibility of developing an infection. Second is based on surface modification of the biomaterial to reduce the adhesion of microorganisms, which is the previous step for biofilm development. Third strategy is focused on the development of efficient local drug delivery systems to prevent and treat these infections.The main objective of this thesis is the in vitro evaluation of a hybrid organo-inorganic sol-gel coating, biofunctionalized with organophosphite and loaded with fluconazole or anidulafungin to prevent and treat fungal prosthetic infections caused by Candida albicans and Candida parapsilosis, the most frequently isolated species. This objective will be achieved through two phases: the previous characterization of the strains and the evaluation of the coatings. In the first phase, the results from these species are compared to those obtained from the characterization of few Candida auris strains since we had access to them within the first months of this thesis. The clinical importance of C. auris has increased rapidly since it was discovered in 2009 due to its high colonization and transmission capacities in and between healthcare centers all around the world and the antifungal resistance displayed by clinical isolates. These characteristics have positioned this pathogen as one of the main fungal etiological agents causing nosocomial systemic infections.First, biofilm production was characterized in all strains using confocal microscopy and fluorescence spectroscopy. Characterization of C. auris strains included an in vivo infection model in Galleria mellonella, the evaluation of their planktonic and biofilm antifungal susceptibility and the evaluation of the antifungal treatment of biofilms using confocal microscopy. Results obtained with C. auris strains were compared with those obtained with C. albicans and C. parapsilosis strains.In the second phase, the adherence of C. albicans and C. parapsilosis strains to the coatings without addition of antifungals was evaluated. Then, prevention of biofilm formation and biofilm treatment were studied using the antifungal-loaded coatings. Finally, a cytotoxicity assay using mammalian cells was performed.Results obtained in all the experiments revealed the different behavior of clinical strains compared to reference strains in the three species: they produced more abundant biofilms, were more pathogenic and presented different susceptibility patterns.Characterization studies showed that all strains had the ability to form a mature biofilm, varying their characteristics depending on the species and growth conditions. As example, C. albicans produced the most abundant and complex biofilms, composed of yeasts and filaments embedded in large amounts of extracellular matrix, and C. auris strains produced the least abundant biofilms, composed mainly of densely packed yeasts.Results of the Galleria mellonella in vivo model showed that C. albicans was more pathogenic than C. auris, and the phenotype of C. auris strains induced different outcomes in the model.Susceptibility studies revealed that C. auris strains displayed greater tolerance to antifungals in comparison to C. albicans and C. parapsilosis strains. In addition, biofilms produced by all strains were much more resistant than planktonic yeasts, and biofilms produced by C. auris clinical isolates were resistant to all tested antifungals.Finally, antifungal treatment of C. auris biofilms significantly reduced its viability and covered surface, being anidulafungin the most effective drug.Characterization of sol-gel coatings revealed that the presence of the coating without antifungal load decreased the adherence of C. albicans, but increased up to 65 times the adherence of C. parapsilosis. Anidulafungin-loaded coatings were more effective in preventing biofilm formation by C. albicans, while fluconazole-loaded coatings prevented more effectively biofilm formation by C. parapsilosis. Treatment with antifungal-loaded coatings showed that the presence of the coating without antifungals was sufficient to reduce biofilms produced by C. albicans, and the load with fluconazole or anidulafungin slightly enhanced this effect. In C. parapsilosis, presence of the coating stimulated biofilm formation, and the load with fluconazole drastically reduced them by up to 99%. Finally, no cytotoxicity events were observed due to the presence of antifungal-loaded coatings.A successful biomaterial with real applications in medicine would address these characteristics: being non-cytotoxic and minimally invasive, promoting osseointegration and effectively prevent and/or combat microbial infections. In this work a novel antifungal-loaded hybrid organo-inorganic sol-gel coating has been characterized. It can be easily manufactured and directly applied to the implant surface. The sol-gel is biodegraded within the first 24-48 hours post-intervention, the critical period for the development of an infection. In addition, biodegradation allows the release of phosphorous compounds and antifungal drugs to the surrounding environment, promoting osseointegration and preventing fungal biofilm formation, presenting this coating as a promising tool for reducing fungal prosthetic joint infections incidence.'"
      ]
     },
     "execution_count": 13,
     "metadata": {},
     "output_type": "execute_result"
    }
   ],
   "source": [
    "en_sp['English_text'][30]"
   ]
  },
  {
   "cell_type": "code",
   "execution_count": 46,
   "metadata": {},
   "outputs": [],
   "source": [
    "en_sp.to_csv('lang_doc2.csv', index=False)"
   ]
  },
  {
   "cell_type": "code",
   "execution_count": null,
   "metadata": {},
   "outputs": [],
   "source": []
  }
 ],
 "metadata": {
  "kernelspec": {
   "display_name": "Python 3",
   "language": "python",
   "name": "python3"
  },
  "language_info": {
   "codemirror_mode": {
    "name": "ipython",
    "version": 3
   },
   "file_extension": ".py",
   "mimetype": "text/x-python",
   "name": "python",
   "nbconvert_exporter": "python",
   "pygments_lexer": "ipython3",
   "version": "3.8.5"
  }
 },
 "nbformat": 4,
 "nbformat_minor": 4
}
